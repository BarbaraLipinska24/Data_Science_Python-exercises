{
  "nbformat": 4,
  "nbformat_minor": 0,
  "metadata": {
    "colab": {
      "provenance": [],
      "authorship_tag": "ABX9TyMqW0kNrSSLj/FeI9MFILwv",
      "include_colab_link": true
    },
    "kernelspec": {
      "name": "python3",
      "display_name": "Python 3"
    },
    "language_info": {
      "name": "python"
    }
  },
  "cells": [
    {
      "cell_type": "markdown",
      "metadata": {
        "id": "view-in-github",
        "colab_type": "text"
      },
      "source": [
        "<a href=\"https://colab.research.google.com/github/BarbaraLipinska24/Data_Science_Python-exercises/blob/main/03_metryki_regresja.ipynb\" target=\"_parent\"><img src=\"https://colab.research.google.com/assets/colab-badge.svg\" alt=\"Open In Colab\"/></a>"
      ]
    },
    {
      "cell_type": "code",
      "execution_count": 1,
      "metadata": {
        "id": "_vjLyT4ZLB67"
      },
      "outputs": [],
      "source": [
        "import numpy as np\n",
        "import pandas as pd\n",
        "import plotly.express as px\n",
        "import plotly.graph_objects as go"
      ]
    },
    {
      "cell_type": "code",
      "source": [
        "y_true=100+20*np.random.randn(50)\n",
        "y_true"
      ],
      "metadata": {
        "colab": {
          "base_uri": "https://localhost:8080/"
        },
        "id": "EoL5kvfNLQJH",
        "outputId": "54a8f4b7-acb9-4c96-9d4c-b8cd7c3cd6d5"
      },
      "execution_count": 3,
      "outputs": [
        {
          "output_type": "execute_result",
          "data": {
            "text/plain": [
              "array([133.74083947,  36.27071114,  79.17751135,  70.59745207,\n",
              "       127.73604726, 112.31318959, 104.11711286,  83.0022246 ,\n",
              "        86.45579121,  70.70982286,  85.138374  ,  83.78242126,\n",
              "       109.37963441,  85.03448385, 127.25137229, 113.89400058,\n",
              "        75.57223096, 123.04086406,  87.8506114 , 105.99664188,\n",
              "       102.59233773, 110.69240405,  79.43030868, 103.37056295,\n",
              "        85.14952519, 113.94423552, 118.51409322,  67.40492113,\n",
              "        97.50513848,  66.90442851,  92.11714094,  78.91312577,\n",
              "       119.33808343,  91.20847304, 114.22441667, 117.86118761,\n",
              "        73.97969959, 106.53963716, 118.49281904, 107.57821383,\n",
              "       105.51909754,  55.75859863,  94.40991373,  97.5583679 ,\n",
              "        78.88310947, 108.28702859,  85.48510185,  99.11321938,\n",
              "       114.07045342,  84.07100143])"
            ]
          },
          "metadata": {},
          "execution_count": 3
        }
      ]
    },
    {
      "cell_type": "code",
      "source": [
        "y_pred=y_true+10*np.random.randn(50)\n",
        "y_pred"
      ],
      "metadata": {
        "colab": {
          "base_uri": "https://localhost:8080/"
        },
        "id": "iPXLeA0ULVr9",
        "outputId": "44dd171b-7533-41e8-af8e-bff741fffa49"
      },
      "execution_count": 4,
      "outputs": [
        {
          "output_type": "execute_result",
          "data": {
            "text/plain": [
              "array([122.31716302,  16.64123856,  85.6197618 ,  74.89767267,\n",
              "       137.61730529, 106.88096837, 108.66667765,  77.22281977,\n",
              "        95.08334182,  82.39776078, 101.53439752,  81.70329207,\n",
              "       110.09586176,  80.00869762, 129.23266123, 130.01560555,\n",
              "        62.25991764, 122.77498912,  90.12404169,  96.92628814,\n",
              "        99.38352923, 123.42416324,  92.53908449, 113.19626293,\n",
              "        96.40451714, 109.61571037, 121.86872681,  63.99014653,\n",
              "        73.89140582,  72.92693096,  84.59347463,  72.09122482,\n",
              "       127.0832946 , 100.32528513, 122.44750069, 132.43370718,\n",
              "        76.15361419, 106.90002208, 101.74364036, 105.46928649,\n",
              "       123.78450308,  59.95578218,  91.99688787,  94.95247345,\n",
              "        73.64489479, 122.66712168,  88.86035282,  97.20992885,\n",
              "       121.96687608,  84.31104711])"
            ]
          },
          "metadata": {},
          "execution_count": 4
        }
      ]
    },
    {
      "cell_type": "code",
      "source": [
        "results=pd.DataFrame(({'y_true':y_true,'y_pred':y_pred}))\n",
        "results.head()"
      ],
      "metadata": {
        "colab": {
          "base_uri": "https://localhost:8080/",
          "height": 206
        },
        "id": "a2Pivg3oLf_k",
        "outputId": "8544badf-8477-47b9-aff9-5ce3eb626647"
      },
      "execution_count": 5,
      "outputs": [
        {
          "output_type": "execute_result",
          "data": {
            "text/plain": [
              "       y_true      y_pred\n",
              "0  133.740839  122.317163\n",
              "1   36.270711   16.641239\n",
              "2   79.177511   85.619762\n",
              "3   70.597452   74.897673\n",
              "4  127.736047  137.617305"
            ],
            "text/html": [
              "\n",
              "  <div id=\"df-2306f258-cebe-4f61-bd3f-05289efd172b\" class=\"colab-df-container\">\n",
              "    <div>\n",
              "<style scoped>\n",
              "    .dataframe tbody tr th:only-of-type {\n",
              "        vertical-align: middle;\n",
              "    }\n",
              "\n",
              "    .dataframe tbody tr th {\n",
              "        vertical-align: top;\n",
              "    }\n",
              "\n",
              "    .dataframe thead th {\n",
              "        text-align: right;\n",
              "    }\n",
              "</style>\n",
              "<table border=\"1\" class=\"dataframe\">\n",
              "  <thead>\n",
              "    <tr style=\"text-align: right;\">\n",
              "      <th></th>\n",
              "      <th>y_true</th>\n",
              "      <th>y_pred</th>\n",
              "    </tr>\n",
              "  </thead>\n",
              "  <tbody>\n",
              "    <tr>\n",
              "      <th>0</th>\n",
              "      <td>133.740839</td>\n",
              "      <td>122.317163</td>\n",
              "    </tr>\n",
              "    <tr>\n",
              "      <th>1</th>\n",
              "      <td>36.270711</td>\n",
              "      <td>16.641239</td>\n",
              "    </tr>\n",
              "    <tr>\n",
              "      <th>2</th>\n",
              "      <td>79.177511</td>\n",
              "      <td>85.619762</td>\n",
              "    </tr>\n",
              "    <tr>\n",
              "      <th>3</th>\n",
              "      <td>70.597452</td>\n",
              "      <td>74.897673</td>\n",
              "    </tr>\n",
              "    <tr>\n",
              "      <th>4</th>\n",
              "      <td>127.736047</td>\n",
              "      <td>137.617305</td>\n",
              "    </tr>\n",
              "  </tbody>\n",
              "</table>\n",
              "</div>\n",
              "    <div class=\"colab-df-buttons\">\n",
              "\n",
              "  <div class=\"colab-df-container\">\n",
              "    <button class=\"colab-df-convert\" onclick=\"convertToInteractive('df-2306f258-cebe-4f61-bd3f-05289efd172b')\"\n",
              "            title=\"Convert this dataframe to an interactive table.\"\n",
              "            style=\"display:none;\">\n",
              "\n",
              "  <svg xmlns=\"http://www.w3.org/2000/svg\" height=\"24px\" viewBox=\"0 -960 960 960\">\n",
              "    <path d=\"M120-120v-720h720v720H120Zm60-500h600v-160H180v160Zm220 220h160v-160H400v160Zm0 220h160v-160H400v160ZM180-400h160v-160H180v160Zm440 0h160v-160H620v160ZM180-180h160v-160H180v160Zm440 0h160v-160H620v160Z\"/>\n",
              "  </svg>\n",
              "    </button>\n",
              "\n",
              "  <style>\n",
              "    .colab-df-container {\n",
              "      display:flex;\n",
              "      gap: 12px;\n",
              "    }\n",
              "\n",
              "    .colab-df-convert {\n",
              "      background-color: #E8F0FE;\n",
              "      border: none;\n",
              "      border-radius: 50%;\n",
              "      cursor: pointer;\n",
              "      display: none;\n",
              "      fill: #1967D2;\n",
              "      height: 32px;\n",
              "      padding: 0 0 0 0;\n",
              "      width: 32px;\n",
              "    }\n",
              "\n",
              "    .colab-df-convert:hover {\n",
              "      background-color: #E2EBFA;\n",
              "      box-shadow: 0px 1px 2px rgba(60, 64, 67, 0.3), 0px 1px 3px 1px rgba(60, 64, 67, 0.15);\n",
              "      fill: #174EA6;\n",
              "    }\n",
              "\n",
              "    .colab-df-buttons div {\n",
              "      margin-bottom: 4px;\n",
              "    }\n",
              "\n",
              "    [theme=dark] .colab-df-convert {\n",
              "      background-color: #3B4455;\n",
              "      fill: #D2E3FC;\n",
              "    }\n",
              "\n",
              "    [theme=dark] .colab-df-convert:hover {\n",
              "      background-color: #434B5C;\n",
              "      box-shadow: 0px 1px 3px 1px rgba(0, 0, 0, 0.15);\n",
              "      filter: drop-shadow(0px 1px 2px rgba(0, 0, 0, 0.3));\n",
              "      fill: #FFFFFF;\n",
              "    }\n",
              "  </style>\n",
              "\n",
              "    <script>\n",
              "      const buttonEl =\n",
              "        document.querySelector('#df-2306f258-cebe-4f61-bd3f-05289efd172b button.colab-df-convert');\n",
              "      buttonEl.style.display =\n",
              "        google.colab.kernel.accessAllowed ? 'block' : 'none';\n",
              "\n",
              "      async function convertToInteractive(key) {\n",
              "        const element = document.querySelector('#df-2306f258-cebe-4f61-bd3f-05289efd172b');\n",
              "        const dataTable =\n",
              "          await google.colab.kernel.invokeFunction('convertToInteractive',\n",
              "                                                    [key], {});\n",
              "        if (!dataTable) return;\n",
              "\n",
              "        const docLinkHtml = 'Like what you see? Visit the ' +\n",
              "          '<a target=\"_blank\" href=https://colab.research.google.com/notebooks/data_table.ipynb>data table notebook</a>'\n",
              "          + ' to learn more about interactive tables.';\n",
              "        element.innerHTML = '';\n",
              "        dataTable['output_type'] = 'display_data';\n",
              "        await google.colab.output.renderOutput(dataTable, element);\n",
              "        const docLink = document.createElement('div');\n",
              "        docLink.innerHTML = docLinkHtml;\n",
              "        element.appendChild(docLink);\n",
              "      }\n",
              "    </script>\n",
              "  </div>\n",
              "\n",
              "\n",
              "<div id=\"df-580ea3a6-a39d-4927-8d75-4fc180acd9c3\">\n",
              "  <button class=\"colab-df-quickchart\" onclick=\"quickchart('df-580ea3a6-a39d-4927-8d75-4fc180acd9c3')\"\n",
              "            title=\"Suggest charts\"\n",
              "            style=\"display:none;\">\n",
              "\n",
              "<svg xmlns=\"http://www.w3.org/2000/svg\" height=\"24px\"viewBox=\"0 0 24 24\"\n",
              "     width=\"24px\">\n",
              "    <g>\n",
              "        <path d=\"M19 3H5c-1.1 0-2 .9-2 2v14c0 1.1.9 2 2 2h14c1.1 0 2-.9 2-2V5c0-1.1-.9-2-2-2zM9 17H7v-7h2v7zm4 0h-2V7h2v10zm4 0h-2v-4h2v4z\"/>\n",
              "    </g>\n",
              "</svg>\n",
              "  </button>\n",
              "\n",
              "<style>\n",
              "  .colab-df-quickchart {\n",
              "      --bg-color: #E8F0FE;\n",
              "      --fill-color: #1967D2;\n",
              "      --hover-bg-color: #E2EBFA;\n",
              "      --hover-fill-color: #174EA6;\n",
              "      --disabled-fill-color: #AAA;\n",
              "      --disabled-bg-color: #DDD;\n",
              "  }\n",
              "\n",
              "  [theme=dark] .colab-df-quickchart {\n",
              "      --bg-color: #3B4455;\n",
              "      --fill-color: #D2E3FC;\n",
              "      --hover-bg-color: #434B5C;\n",
              "      --hover-fill-color: #FFFFFF;\n",
              "      --disabled-bg-color: #3B4455;\n",
              "      --disabled-fill-color: #666;\n",
              "  }\n",
              "\n",
              "  .colab-df-quickchart {\n",
              "    background-color: var(--bg-color);\n",
              "    border: none;\n",
              "    border-radius: 50%;\n",
              "    cursor: pointer;\n",
              "    display: none;\n",
              "    fill: var(--fill-color);\n",
              "    height: 32px;\n",
              "    padding: 0;\n",
              "    width: 32px;\n",
              "  }\n",
              "\n",
              "  .colab-df-quickchart:hover {\n",
              "    background-color: var(--hover-bg-color);\n",
              "    box-shadow: 0 1px 2px rgba(60, 64, 67, 0.3), 0 1px 3px 1px rgba(60, 64, 67, 0.15);\n",
              "    fill: var(--button-hover-fill-color);\n",
              "  }\n",
              "\n",
              "  .colab-df-quickchart-complete:disabled,\n",
              "  .colab-df-quickchart-complete:disabled:hover {\n",
              "    background-color: var(--disabled-bg-color);\n",
              "    fill: var(--disabled-fill-color);\n",
              "    box-shadow: none;\n",
              "  }\n",
              "\n",
              "  .colab-df-spinner {\n",
              "    border: 2px solid var(--fill-color);\n",
              "    border-color: transparent;\n",
              "    border-bottom-color: var(--fill-color);\n",
              "    animation:\n",
              "      spin 1s steps(1) infinite;\n",
              "  }\n",
              "\n",
              "  @keyframes spin {\n",
              "    0% {\n",
              "      border-color: transparent;\n",
              "      border-bottom-color: var(--fill-color);\n",
              "      border-left-color: var(--fill-color);\n",
              "    }\n",
              "    20% {\n",
              "      border-color: transparent;\n",
              "      border-left-color: var(--fill-color);\n",
              "      border-top-color: var(--fill-color);\n",
              "    }\n",
              "    30% {\n",
              "      border-color: transparent;\n",
              "      border-left-color: var(--fill-color);\n",
              "      border-top-color: var(--fill-color);\n",
              "      border-right-color: var(--fill-color);\n",
              "    }\n",
              "    40% {\n",
              "      border-color: transparent;\n",
              "      border-right-color: var(--fill-color);\n",
              "      border-top-color: var(--fill-color);\n",
              "    }\n",
              "    60% {\n",
              "      border-color: transparent;\n",
              "      border-right-color: var(--fill-color);\n",
              "    }\n",
              "    80% {\n",
              "      border-color: transparent;\n",
              "      border-right-color: var(--fill-color);\n",
              "      border-bottom-color: var(--fill-color);\n",
              "    }\n",
              "    90% {\n",
              "      border-color: transparent;\n",
              "      border-bottom-color: var(--fill-color);\n",
              "    }\n",
              "  }\n",
              "</style>\n",
              "\n",
              "  <script>\n",
              "    async function quickchart(key) {\n",
              "      const quickchartButtonEl =\n",
              "        document.querySelector('#' + key + ' button');\n",
              "      quickchartButtonEl.disabled = true;  // To prevent multiple clicks.\n",
              "      quickchartButtonEl.classList.add('colab-df-spinner');\n",
              "      try {\n",
              "        const charts = await google.colab.kernel.invokeFunction(\n",
              "            'suggestCharts', [key], {});\n",
              "      } catch (error) {\n",
              "        console.error('Error during call to suggestCharts:', error);\n",
              "      }\n",
              "      quickchartButtonEl.classList.remove('colab-df-spinner');\n",
              "      quickchartButtonEl.classList.add('colab-df-quickchart-complete');\n",
              "    }\n",
              "    (() => {\n",
              "      let quickchartButtonEl =\n",
              "        document.querySelector('#df-580ea3a6-a39d-4927-8d75-4fc180acd9c3 button');\n",
              "      quickchartButtonEl.style.display =\n",
              "        google.colab.kernel.accessAllowed ? 'block' : 'none';\n",
              "    })();\n",
              "  </script>\n",
              "</div>\n",
              "    </div>\n",
              "  </div>\n"
            ]
          },
          "metadata": {},
          "execution_count": 5
        }
      ]
    },
    {
      "cell_type": "code",
      "source": [
        "results['error']=results['y_true']-results['y_pred']\n",
        "results.head()"
      ],
      "metadata": {
        "colab": {
          "base_uri": "https://localhost:8080/",
          "height": 206
        },
        "id": "2U1l1RzfORtn",
        "outputId": "775363e3-9b94-46c5-caab-96372f9da9d5"
      },
      "execution_count": 7,
      "outputs": [
        {
          "output_type": "execute_result",
          "data": {
            "text/plain": [
              "       y_true      y_pred      error\n",
              "0  133.740839  122.317163  11.423676\n",
              "1   36.270711   16.641239  19.629473\n",
              "2   79.177511   85.619762  -6.442250\n",
              "3   70.597452   74.897673  -4.300221\n",
              "4  127.736047  137.617305  -9.881258"
            ],
            "text/html": [
              "\n",
              "  <div id=\"df-d089c2ab-c46b-426e-a230-81b7ea1243bb\" class=\"colab-df-container\">\n",
              "    <div>\n",
              "<style scoped>\n",
              "    .dataframe tbody tr th:only-of-type {\n",
              "        vertical-align: middle;\n",
              "    }\n",
              "\n",
              "    .dataframe tbody tr th {\n",
              "        vertical-align: top;\n",
              "    }\n",
              "\n",
              "    .dataframe thead th {\n",
              "        text-align: right;\n",
              "    }\n",
              "</style>\n",
              "<table border=\"1\" class=\"dataframe\">\n",
              "  <thead>\n",
              "    <tr style=\"text-align: right;\">\n",
              "      <th></th>\n",
              "      <th>y_true</th>\n",
              "      <th>y_pred</th>\n",
              "      <th>error</th>\n",
              "    </tr>\n",
              "  </thead>\n",
              "  <tbody>\n",
              "    <tr>\n",
              "      <th>0</th>\n",
              "      <td>133.740839</td>\n",
              "      <td>122.317163</td>\n",
              "      <td>11.423676</td>\n",
              "    </tr>\n",
              "    <tr>\n",
              "      <th>1</th>\n",
              "      <td>36.270711</td>\n",
              "      <td>16.641239</td>\n",
              "      <td>19.629473</td>\n",
              "    </tr>\n",
              "    <tr>\n",
              "      <th>2</th>\n",
              "      <td>79.177511</td>\n",
              "      <td>85.619762</td>\n",
              "      <td>-6.442250</td>\n",
              "    </tr>\n",
              "    <tr>\n",
              "      <th>3</th>\n",
              "      <td>70.597452</td>\n",
              "      <td>74.897673</td>\n",
              "      <td>-4.300221</td>\n",
              "    </tr>\n",
              "    <tr>\n",
              "      <th>4</th>\n",
              "      <td>127.736047</td>\n",
              "      <td>137.617305</td>\n",
              "      <td>-9.881258</td>\n",
              "    </tr>\n",
              "  </tbody>\n",
              "</table>\n",
              "</div>\n",
              "    <div class=\"colab-df-buttons\">\n",
              "\n",
              "  <div class=\"colab-df-container\">\n",
              "    <button class=\"colab-df-convert\" onclick=\"convertToInteractive('df-d089c2ab-c46b-426e-a230-81b7ea1243bb')\"\n",
              "            title=\"Convert this dataframe to an interactive table.\"\n",
              "            style=\"display:none;\">\n",
              "\n",
              "  <svg xmlns=\"http://www.w3.org/2000/svg\" height=\"24px\" viewBox=\"0 -960 960 960\">\n",
              "    <path d=\"M120-120v-720h720v720H120Zm60-500h600v-160H180v160Zm220 220h160v-160H400v160Zm0 220h160v-160H400v160ZM180-400h160v-160H180v160Zm440 0h160v-160H620v160ZM180-180h160v-160H180v160Zm440 0h160v-160H620v160Z\"/>\n",
              "  </svg>\n",
              "    </button>\n",
              "\n",
              "  <style>\n",
              "    .colab-df-container {\n",
              "      display:flex;\n",
              "      gap: 12px;\n",
              "    }\n",
              "\n",
              "    .colab-df-convert {\n",
              "      background-color: #E8F0FE;\n",
              "      border: none;\n",
              "      border-radius: 50%;\n",
              "      cursor: pointer;\n",
              "      display: none;\n",
              "      fill: #1967D2;\n",
              "      height: 32px;\n",
              "      padding: 0 0 0 0;\n",
              "      width: 32px;\n",
              "    }\n",
              "\n",
              "    .colab-df-convert:hover {\n",
              "      background-color: #E2EBFA;\n",
              "      box-shadow: 0px 1px 2px rgba(60, 64, 67, 0.3), 0px 1px 3px 1px rgba(60, 64, 67, 0.15);\n",
              "      fill: #174EA6;\n",
              "    }\n",
              "\n",
              "    .colab-df-buttons div {\n",
              "      margin-bottom: 4px;\n",
              "    }\n",
              "\n",
              "    [theme=dark] .colab-df-convert {\n",
              "      background-color: #3B4455;\n",
              "      fill: #D2E3FC;\n",
              "    }\n",
              "\n",
              "    [theme=dark] .colab-df-convert:hover {\n",
              "      background-color: #434B5C;\n",
              "      box-shadow: 0px 1px 3px 1px rgba(0, 0, 0, 0.15);\n",
              "      filter: drop-shadow(0px 1px 2px rgba(0, 0, 0, 0.3));\n",
              "      fill: #FFFFFF;\n",
              "    }\n",
              "  </style>\n",
              "\n",
              "    <script>\n",
              "      const buttonEl =\n",
              "        document.querySelector('#df-d089c2ab-c46b-426e-a230-81b7ea1243bb button.colab-df-convert');\n",
              "      buttonEl.style.display =\n",
              "        google.colab.kernel.accessAllowed ? 'block' : 'none';\n",
              "\n",
              "      async function convertToInteractive(key) {\n",
              "        const element = document.querySelector('#df-d089c2ab-c46b-426e-a230-81b7ea1243bb');\n",
              "        const dataTable =\n",
              "          await google.colab.kernel.invokeFunction('convertToInteractive',\n",
              "                                                    [key], {});\n",
              "        if (!dataTable) return;\n",
              "\n",
              "        const docLinkHtml = 'Like what you see? Visit the ' +\n",
              "          '<a target=\"_blank\" href=https://colab.research.google.com/notebooks/data_table.ipynb>data table notebook</a>'\n",
              "          + ' to learn more about interactive tables.';\n",
              "        element.innerHTML = '';\n",
              "        dataTable['output_type'] = 'display_data';\n",
              "        await google.colab.output.renderOutput(dataTable, element);\n",
              "        const docLink = document.createElement('div');\n",
              "        docLink.innerHTML = docLinkHtml;\n",
              "        element.appendChild(docLink);\n",
              "      }\n",
              "    </script>\n",
              "  </div>\n",
              "\n",
              "\n",
              "<div id=\"df-cbf17246-dc34-4b32-9026-a5e9ac91b4f9\">\n",
              "  <button class=\"colab-df-quickchart\" onclick=\"quickchart('df-cbf17246-dc34-4b32-9026-a5e9ac91b4f9')\"\n",
              "            title=\"Suggest charts\"\n",
              "            style=\"display:none;\">\n",
              "\n",
              "<svg xmlns=\"http://www.w3.org/2000/svg\" height=\"24px\"viewBox=\"0 0 24 24\"\n",
              "     width=\"24px\">\n",
              "    <g>\n",
              "        <path d=\"M19 3H5c-1.1 0-2 .9-2 2v14c0 1.1.9 2 2 2h14c1.1 0 2-.9 2-2V5c0-1.1-.9-2-2-2zM9 17H7v-7h2v7zm4 0h-2V7h2v10zm4 0h-2v-4h2v4z\"/>\n",
              "    </g>\n",
              "</svg>\n",
              "  </button>\n",
              "\n",
              "<style>\n",
              "  .colab-df-quickchart {\n",
              "      --bg-color: #E8F0FE;\n",
              "      --fill-color: #1967D2;\n",
              "      --hover-bg-color: #E2EBFA;\n",
              "      --hover-fill-color: #174EA6;\n",
              "      --disabled-fill-color: #AAA;\n",
              "      --disabled-bg-color: #DDD;\n",
              "  }\n",
              "\n",
              "  [theme=dark] .colab-df-quickchart {\n",
              "      --bg-color: #3B4455;\n",
              "      --fill-color: #D2E3FC;\n",
              "      --hover-bg-color: #434B5C;\n",
              "      --hover-fill-color: #FFFFFF;\n",
              "      --disabled-bg-color: #3B4455;\n",
              "      --disabled-fill-color: #666;\n",
              "  }\n",
              "\n",
              "  .colab-df-quickchart {\n",
              "    background-color: var(--bg-color);\n",
              "    border: none;\n",
              "    border-radius: 50%;\n",
              "    cursor: pointer;\n",
              "    display: none;\n",
              "    fill: var(--fill-color);\n",
              "    height: 32px;\n",
              "    padding: 0;\n",
              "    width: 32px;\n",
              "  }\n",
              "\n",
              "  .colab-df-quickchart:hover {\n",
              "    background-color: var(--hover-bg-color);\n",
              "    box-shadow: 0 1px 2px rgba(60, 64, 67, 0.3), 0 1px 3px 1px rgba(60, 64, 67, 0.15);\n",
              "    fill: var(--button-hover-fill-color);\n",
              "  }\n",
              "\n",
              "  .colab-df-quickchart-complete:disabled,\n",
              "  .colab-df-quickchart-complete:disabled:hover {\n",
              "    background-color: var(--disabled-bg-color);\n",
              "    fill: var(--disabled-fill-color);\n",
              "    box-shadow: none;\n",
              "  }\n",
              "\n",
              "  .colab-df-spinner {\n",
              "    border: 2px solid var(--fill-color);\n",
              "    border-color: transparent;\n",
              "    border-bottom-color: var(--fill-color);\n",
              "    animation:\n",
              "      spin 1s steps(1) infinite;\n",
              "  }\n",
              "\n",
              "  @keyframes spin {\n",
              "    0% {\n",
              "      border-color: transparent;\n",
              "      border-bottom-color: var(--fill-color);\n",
              "      border-left-color: var(--fill-color);\n",
              "    }\n",
              "    20% {\n",
              "      border-color: transparent;\n",
              "      border-left-color: var(--fill-color);\n",
              "      border-top-color: var(--fill-color);\n",
              "    }\n",
              "    30% {\n",
              "      border-color: transparent;\n",
              "      border-left-color: var(--fill-color);\n",
              "      border-top-color: var(--fill-color);\n",
              "      border-right-color: var(--fill-color);\n",
              "    }\n",
              "    40% {\n",
              "      border-color: transparent;\n",
              "      border-right-color: var(--fill-color);\n",
              "      border-top-color: var(--fill-color);\n",
              "    }\n",
              "    60% {\n",
              "      border-color: transparent;\n",
              "      border-right-color: var(--fill-color);\n",
              "    }\n",
              "    80% {\n",
              "      border-color: transparent;\n",
              "      border-right-color: var(--fill-color);\n",
              "      border-bottom-color: var(--fill-color);\n",
              "    }\n",
              "    90% {\n",
              "      border-color: transparent;\n",
              "      border-bottom-color: var(--fill-color);\n",
              "    }\n",
              "  }\n",
              "</style>\n",
              "\n",
              "  <script>\n",
              "    async function quickchart(key) {\n",
              "      const quickchartButtonEl =\n",
              "        document.querySelector('#' + key + ' button');\n",
              "      quickchartButtonEl.disabled = true;  // To prevent multiple clicks.\n",
              "      quickchartButtonEl.classList.add('colab-df-spinner');\n",
              "      try {\n",
              "        const charts = await google.colab.kernel.invokeFunction(\n",
              "            'suggestCharts', [key], {});\n",
              "      } catch (error) {\n",
              "        console.error('Error during call to suggestCharts:', error);\n",
              "      }\n",
              "      quickchartButtonEl.classList.remove('colab-df-spinner');\n",
              "      quickchartButtonEl.classList.add('colab-df-quickchart-complete');\n",
              "    }\n",
              "    (() => {\n",
              "      let quickchartButtonEl =\n",
              "        document.querySelector('#df-cbf17246-dc34-4b32-9026-a5e9ac91b4f9 button');\n",
              "      quickchartButtonEl.style.display =\n",
              "        google.colab.kernel.accessAllowed ? 'block' : 'none';\n",
              "    })();\n",
              "  </script>\n",
              "</div>\n",
              "    </div>\n",
              "  </div>\n"
            ]
          },
          "metadata": {},
          "execution_count": 7
        }
      ]
    },
    {
      "cell_type": "code",
      "source": [
        "def plot_regression_results(y_true,y_pred):\n",
        "    results=pd.DataFrame({'y_true':y_true,'y_pred':y_pred})\n",
        "    min=results[['y_true','y_pred']].min().min()\n",
        "    max=results[['y_true','y_pred']].max().max()\n",
        "\n",
        "    fig = go.Figure(data=[go.Scatter(x=results['y_true'],y=results['y_pred'],mode='markers'),\n",
        "                  go.Scatter(x=[min, max],y=[min,max])],\n",
        "                  layout=go.Layout(showlegend=False, width=800,\n",
        "                                   xaxis_title='y_true',\n",
        "                                   yaxis_title='y_pred',\n",
        "                                   title='Regression results'))\n",
        "    fig.show()\n",
        "plot_regression_results(y_true,y_pred)"
      ],
      "metadata": {
        "colab": {
          "base_uri": "https://localhost:8080/",
          "height": 562
        },
        "id": "fG5GYcHWOgYn",
        "outputId": "fd5b418b-40ca-45e7-8247-9eb8aa92eda8"
      },
      "execution_count": 13,
      "outputs": [
        {
          "output_type": "display_data",
          "data": {
            "text/html": [
              "<html>\n",
              "<head><meta charset=\"utf-8\" /></head>\n",
              "<body>\n",
              "    <div>            <script src=\"https://cdnjs.cloudflare.com/ajax/libs/mathjax/2.7.5/MathJax.js?config=TeX-AMS-MML_SVG\"></script><script type=\"text/javascript\">if (window.MathJax && window.MathJax.Hub && window.MathJax.Hub.Config) {window.MathJax.Hub.Config({SVG: {font: \"STIX-Web\"}});}</script>                <script type=\"text/javascript\">window.PlotlyConfig = {MathJaxConfig: 'local'};</script>\n",
              "        <script charset=\"utf-8\" src=\"https://cdn.plot.ly/plotly-2.24.1.min.js\"></script>                <div id=\"4f37861d-62bc-46ab-99c9-8567ce92594f\" class=\"plotly-graph-div\" style=\"height:525px; width:800px;\"></div>            <script type=\"text/javascript\">                                    window.PLOTLYENV=window.PLOTLYENV || {};                                    if (document.getElementById(\"4f37861d-62bc-46ab-99c9-8567ce92594f\")) {                    Plotly.newPlot(                        \"4f37861d-62bc-46ab-99c9-8567ce92594f\",                        [{\"mode\":\"markers\",\"x\":[133.7408394672367,36.270711137635004,79.17751135386536,70.59745206573051,127.73604725752077,112.31318959313144,104.11711286156664,83.00222459617505,86.45579121190676,70.70982285866786,85.13837400150807,83.78242125954175,109.3796344053009,85.03448384732727,127.25137228793434,113.89400057623753,75.57223096433765,123.04086405896214,87.85061140148309,105.99664188014222,102.59233773164408,110.69240404741299,79.43030867770455,103.37056294976433,85.1495251885847,113.94423552228338,118.51409322228287,67.40492112986507,97.50513847824782,66.90442850708958,92.1171409410265,78.91312576921287,119.33808343305103,91.20847304380744,114.22441667163301,117.86118761188122,73.97969959215007,106.53963716001306,118.49281904246753,107.57821383320167,105.5190975429685,55.758598627752704,94.40991372723039,97.5583679022677,78.88310946561931,108.28702858756066,85.48510184653605,99.11321937642197,114.07045341811853,84.07100143108292],\"y\":[122.31716302390561,16.641238561985112,85.61976180215889,74.89767266508048,137.61730529074308,106.88096837482465,108.66667765185986,77.22281976877703,95.08334181718664,82.3977607781891,101.53439752097765,81.70329206603992,110.09586176258757,80.00869761623946,129.23266122755132,130.01560554698779,62.259917639399255,122.77498912308846,90.12404168645686,96.92628813632406,99.38352922748466,123.42416324339062,92.53908448556606,113.1962629303058,96.4045171355408,109.61571036631277,121.86872680738723,63.99014653240329,73.89140581571861,72.92693095850109,84.59347463090319,72.09122482079613,127.08329460349083,100.3252851261083,122.44750068597722,132.433707183583,76.15361419420901,106.90002207576586,101.74364035636772,105.46928649371172,123.78450307979293,59.95578218097676,91.99688787492298,94.95247344912397,73.64489479495413,122.6671216771065,88.86035282452428,97.20992884963796,121.96687607632931,84.31104710567392],\"type\":\"scatter\"},{\"x\":[16.641238561985112,137.61730529074308],\"y\":[16.641238561985112,137.61730529074308],\"type\":\"scatter\"}],                        {\"showlegend\":false,\"title\":{\"text\":\"Regression results\"},\"width\":800,\"xaxis\":{\"title\":{\"text\":\"y_true\"}},\"yaxis\":{\"title\":{\"text\":\"y_pred\"}},\"template\":{\"data\":{\"histogram2dcontour\":[{\"type\":\"histogram2dcontour\",\"colorbar\":{\"outlinewidth\":0,\"ticks\":\"\"},\"colorscale\":[[0.0,\"#0d0887\"],[0.1111111111111111,\"#46039f\"],[0.2222222222222222,\"#7201a8\"],[0.3333333333333333,\"#9c179e\"],[0.4444444444444444,\"#bd3786\"],[0.5555555555555556,\"#d8576b\"],[0.6666666666666666,\"#ed7953\"],[0.7777777777777778,\"#fb9f3a\"],[0.8888888888888888,\"#fdca26\"],[1.0,\"#f0f921\"]]}],\"choropleth\":[{\"type\":\"choropleth\",\"colorbar\":{\"outlinewidth\":0,\"ticks\":\"\"}}],\"histogram2d\":[{\"type\":\"histogram2d\",\"colorbar\":{\"outlinewidth\":0,\"ticks\":\"\"},\"colorscale\":[[0.0,\"#0d0887\"],[0.1111111111111111,\"#46039f\"],[0.2222222222222222,\"#7201a8\"],[0.3333333333333333,\"#9c179e\"],[0.4444444444444444,\"#bd3786\"],[0.5555555555555556,\"#d8576b\"],[0.6666666666666666,\"#ed7953\"],[0.7777777777777778,\"#fb9f3a\"],[0.8888888888888888,\"#fdca26\"],[1.0,\"#f0f921\"]]}],\"heatmap\":[{\"type\":\"heatmap\",\"colorbar\":{\"outlinewidth\":0,\"ticks\":\"\"},\"colorscale\":[[0.0,\"#0d0887\"],[0.1111111111111111,\"#46039f\"],[0.2222222222222222,\"#7201a8\"],[0.3333333333333333,\"#9c179e\"],[0.4444444444444444,\"#bd3786\"],[0.5555555555555556,\"#d8576b\"],[0.6666666666666666,\"#ed7953\"],[0.7777777777777778,\"#fb9f3a\"],[0.8888888888888888,\"#fdca26\"],[1.0,\"#f0f921\"]]}],\"heatmapgl\":[{\"type\":\"heatmapgl\",\"colorbar\":{\"outlinewidth\":0,\"ticks\":\"\"},\"colorscale\":[[0.0,\"#0d0887\"],[0.1111111111111111,\"#46039f\"],[0.2222222222222222,\"#7201a8\"],[0.3333333333333333,\"#9c179e\"],[0.4444444444444444,\"#bd3786\"],[0.5555555555555556,\"#d8576b\"],[0.6666666666666666,\"#ed7953\"],[0.7777777777777778,\"#fb9f3a\"],[0.8888888888888888,\"#fdca26\"],[1.0,\"#f0f921\"]]}],\"contourcarpet\":[{\"type\":\"contourcarpet\",\"colorbar\":{\"outlinewidth\":0,\"ticks\":\"\"}}],\"contour\":[{\"type\":\"contour\",\"colorbar\":{\"outlinewidth\":0,\"ticks\":\"\"},\"colorscale\":[[0.0,\"#0d0887\"],[0.1111111111111111,\"#46039f\"],[0.2222222222222222,\"#7201a8\"],[0.3333333333333333,\"#9c179e\"],[0.4444444444444444,\"#bd3786\"],[0.5555555555555556,\"#d8576b\"],[0.6666666666666666,\"#ed7953\"],[0.7777777777777778,\"#fb9f3a\"],[0.8888888888888888,\"#fdca26\"],[1.0,\"#f0f921\"]]}],\"surface\":[{\"type\":\"surface\",\"colorbar\":{\"outlinewidth\":0,\"ticks\":\"\"},\"colorscale\":[[0.0,\"#0d0887\"],[0.1111111111111111,\"#46039f\"],[0.2222222222222222,\"#7201a8\"],[0.3333333333333333,\"#9c179e\"],[0.4444444444444444,\"#bd3786\"],[0.5555555555555556,\"#d8576b\"],[0.6666666666666666,\"#ed7953\"],[0.7777777777777778,\"#fb9f3a\"],[0.8888888888888888,\"#fdca26\"],[1.0,\"#f0f921\"]]}],\"mesh3d\":[{\"type\":\"mesh3d\",\"colorbar\":{\"outlinewidth\":0,\"ticks\":\"\"}}],\"scatter\":[{\"fillpattern\":{\"fillmode\":\"overlay\",\"size\":10,\"solidity\":0.2},\"type\":\"scatter\"}],\"parcoords\":[{\"type\":\"parcoords\",\"line\":{\"colorbar\":{\"outlinewidth\":0,\"ticks\":\"\"}}}],\"scatterpolargl\":[{\"type\":\"scatterpolargl\",\"marker\":{\"colorbar\":{\"outlinewidth\":0,\"ticks\":\"\"}}}],\"bar\":[{\"error_x\":{\"color\":\"#2a3f5f\"},\"error_y\":{\"color\":\"#2a3f5f\"},\"marker\":{\"line\":{\"color\":\"#E5ECF6\",\"width\":0.5},\"pattern\":{\"fillmode\":\"overlay\",\"size\":10,\"solidity\":0.2}},\"type\":\"bar\"}],\"scattergeo\":[{\"type\":\"scattergeo\",\"marker\":{\"colorbar\":{\"outlinewidth\":0,\"ticks\":\"\"}}}],\"scatterpolar\":[{\"type\":\"scatterpolar\",\"marker\":{\"colorbar\":{\"outlinewidth\":0,\"ticks\":\"\"}}}],\"histogram\":[{\"marker\":{\"pattern\":{\"fillmode\":\"overlay\",\"size\":10,\"solidity\":0.2}},\"type\":\"histogram\"}],\"scattergl\":[{\"type\":\"scattergl\",\"marker\":{\"colorbar\":{\"outlinewidth\":0,\"ticks\":\"\"}}}],\"scatter3d\":[{\"type\":\"scatter3d\",\"line\":{\"colorbar\":{\"outlinewidth\":0,\"ticks\":\"\"}},\"marker\":{\"colorbar\":{\"outlinewidth\":0,\"ticks\":\"\"}}}],\"scattermapbox\":[{\"type\":\"scattermapbox\",\"marker\":{\"colorbar\":{\"outlinewidth\":0,\"ticks\":\"\"}}}],\"scatterternary\":[{\"type\":\"scatterternary\",\"marker\":{\"colorbar\":{\"outlinewidth\":0,\"ticks\":\"\"}}}],\"scattercarpet\":[{\"type\":\"scattercarpet\",\"marker\":{\"colorbar\":{\"outlinewidth\":0,\"ticks\":\"\"}}}],\"carpet\":[{\"aaxis\":{\"endlinecolor\":\"#2a3f5f\",\"gridcolor\":\"white\",\"linecolor\":\"white\",\"minorgridcolor\":\"white\",\"startlinecolor\":\"#2a3f5f\"},\"baxis\":{\"endlinecolor\":\"#2a3f5f\",\"gridcolor\":\"white\",\"linecolor\":\"white\",\"minorgridcolor\":\"white\",\"startlinecolor\":\"#2a3f5f\"},\"type\":\"carpet\"}],\"table\":[{\"cells\":{\"fill\":{\"color\":\"#EBF0F8\"},\"line\":{\"color\":\"white\"}},\"header\":{\"fill\":{\"color\":\"#C8D4E3\"},\"line\":{\"color\":\"white\"}},\"type\":\"table\"}],\"barpolar\":[{\"marker\":{\"line\":{\"color\":\"#E5ECF6\",\"width\":0.5},\"pattern\":{\"fillmode\":\"overlay\",\"size\":10,\"solidity\":0.2}},\"type\":\"barpolar\"}],\"pie\":[{\"automargin\":true,\"type\":\"pie\"}]},\"layout\":{\"autotypenumbers\":\"strict\",\"colorway\":[\"#636efa\",\"#EF553B\",\"#00cc96\",\"#ab63fa\",\"#FFA15A\",\"#19d3f3\",\"#FF6692\",\"#B6E880\",\"#FF97FF\",\"#FECB52\"],\"font\":{\"color\":\"#2a3f5f\"},\"hovermode\":\"closest\",\"hoverlabel\":{\"align\":\"left\"},\"paper_bgcolor\":\"white\",\"plot_bgcolor\":\"#E5ECF6\",\"polar\":{\"bgcolor\":\"#E5ECF6\",\"angularaxis\":{\"gridcolor\":\"white\",\"linecolor\":\"white\",\"ticks\":\"\"},\"radialaxis\":{\"gridcolor\":\"white\",\"linecolor\":\"white\",\"ticks\":\"\"}},\"ternary\":{\"bgcolor\":\"#E5ECF6\",\"aaxis\":{\"gridcolor\":\"white\",\"linecolor\":\"white\",\"ticks\":\"\"},\"baxis\":{\"gridcolor\":\"white\",\"linecolor\":\"white\",\"ticks\":\"\"},\"caxis\":{\"gridcolor\":\"white\",\"linecolor\":\"white\",\"ticks\":\"\"}},\"coloraxis\":{\"colorbar\":{\"outlinewidth\":0,\"ticks\":\"\"}},\"colorscale\":{\"sequential\":[[0.0,\"#0d0887\"],[0.1111111111111111,\"#46039f\"],[0.2222222222222222,\"#7201a8\"],[0.3333333333333333,\"#9c179e\"],[0.4444444444444444,\"#bd3786\"],[0.5555555555555556,\"#d8576b\"],[0.6666666666666666,\"#ed7953\"],[0.7777777777777778,\"#fb9f3a\"],[0.8888888888888888,\"#fdca26\"],[1.0,\"#f0f921\"]],\"sequentialminus\":[[0.0,\"#0d0887\"],[0.1111111111111111,\"#46039f\"],[0.2222222222222222,\"#7201a8\"],[0.3333333333333333,\"#9c179e\"],[0.4444444444444444,\"#bd3786\"],[0.5555555555555556,\"#d8576b\"],[0.6666666666666666,\"#ed7953\"],[0.7777777777777778,\"#fb9f3a\"],[0.8888888888888888,\"#fdca26\"],[1.0,\"#f0f921\"]],\"diverging\":[[0,\"#8e0152\"],[0.1,\"#c51b7d\"],[0.2,\"#de77ae\"],[0.3,\"#f1b6da\"],[0.4,\"#fde0ef\"],[0.5,\"#f7f7f7\"],[0.6,\"#e6f5d0\"],[0.7,\"#b8e186\"],[0.8,\"#7fbc41\"],[0.9,\"#4d9221\"],[1,\"#276419\"]]},\"xaxis\":{\"gridcolor\":\"white\",\"linecolor\":\"white\",\"ticks\":\"\",\"title\":{\"standoff\":15},\"zerolinecolor\":\"white\",\"automargin\":true,\"zerolinewidth\":2},\"yaxis\":{\"gridcolor\":\"white\",\"linecolor\":\"white\",\"ticks\":\"\",\"title\":{\"standoff\":15},\"zerolinecolor\":\"white\",\"automargin\":true,\"zerolinewidth\":2},\"scene\":{\"xaxis\":{\"backgroundcolor\":\"#E5ECF6\",\"gridcolor\":\"white\",\"linecolor\":\"white\",\"showbackground\":true,\"ticks\":\"\",\"zerolinecolor\":\"white\",\"gridwidth\":2},\"yaxis\":{\"backgroundcolor\":\"#E5ECF6\",\"gridcolor\":\"white\",\"linecolor\":\"white\",\"showbackground\":true,\"ticks\":\"\",\"zerolinecolor\":\"white\",\"gridwidth\":2},\"zaxis\":{\"backgroundcolor\":\"#E5ECF6\",\"gridcolor\":\"white\",\"linecolor\":\"white\",\"showbackground\":true,\"ticks\":\"\",\"zerolinecolor\":\"white\",\"gridwidth\":2}},\"shapedefaults\":{\"line\":{\"color\":\"#2a3f5f\"}},\"annotationdefaults\":{\"arrowcolor\":\"#2a3f5f\",\"arrowhead\":0,\"arrowwidth\":1},\"geo\":{\"bgcolor\":\"white\",\"landcolor\":\"#E5ECF6\",\"subunitcolor\":\"white\",\"showland\":true,\"showlakes\":true,\"lakecolor\":\"white\"},\"title\":{\"x\":0.05},\"mapbox\":{\"style\":\"light\"}}}},                        {\"responsive\": true}                    ).then(function(){\n",
              "                            \n",
              "var gd = document.getElementById('4f37861d-62bc-46ab-99c9-8567ce92594f');\n",
              "var x = new MutationObserver(function (mutations, observer) {{\n",
              "        var display = window.getComputedStyle(gd).display;\n",
              "        if (!display || display === 'none') {{\n",
              "            console.log([gd, 'removed!']);\n",
              "            Plotly.purge(gd);\n",
              "            observer.disconnect();\n",
              "        }}\n",
              "}});\n",
              "\n",
              "// Listen for the removal of the full notebook cells\n",
              "var notebookContainer = gd.closest('#notebook-container');\n",
              "if (notebookContainer) {{\n",
              "    x.observe(notebookContainer, {childList: true});\n",
              "}}\n",
              "\n",
              "// Listen for the clearing of the current output cell\n",
              "var outputEl = gd.closest('.output');\n",
              "if (outputEl) {{\n",
              "    x.observe(outputEl, {childList: true});\n",
              "}}\n",
              "\n",
              "                        })                };                            </script>        </div>\n",
              "</body>\n",
              "</html>"
            ]
          },
          "metadata": {}
        }
      ]
    },
    {
      "cell_type": "code",
      "source": [
        "y_true=100+20*np.random.randn(1000)\n",
        "y_pred=y_true+10*np.random.randn(1000)\n",
        "results=pd.DataFrame({'y_true':y_true,'y_pred':y_pred})\n",
        "results['error']=results['y_true']-results['y_pred']\n",
        "\n",
        "px.histogram(results,x='error',nbins=50,width=800)"
      ],
      "metadata": {
        "colab": {
          "base_uri": "https://localhost:8080/",
          "height": 562
        },
        "id": "P7EZo9AGPNWI",
        "outputId": "8f4466cc-9fe0-45b3-aa79-0914f10be7de"
      },
      "execution_count": 16,
      "outputs": [
        {
          "output_type": "display_data",
          "data": {
            "text/html": [
              "<html>\n",
              "<head><meta charset=\"utf-8\" /></head>\n",
              "<body>\n",
              "    <div>            <script src=\"https://cdnjs.cloudflare.com/ajax/libs/mathjax/2.7.5/MathJax.js?config=TeX-AMS-MML_SVG\"></script><script type=\"text/javascript\">if (window.MathJax && window.MathJax.Hub && window.MathJax.Hub.Config) {window.MathJax.Hub.Config({SVG: {font: \"STIX-Web\"}});}</script>                <script type=\"text/javascript\">window.PlotlyConfig = {MathJaxConfig: 'local'};</script>\n",
              "        <script charset=\"utf-8\" src=\"https://cdn.plot.ly/plotly-2.24.1.min.js\"></script>                <div id=\"2d47d887-96e8-4162-9fa1-b46193d021c3\" class=\"plotly-graph-div\" style=\"height:525px; width:800px;\"></div>            <script type=\"text/javascript\">                                    window.PLOTLYENV=window.PLOTLYENV || {};                                    if (document.getElementById(\"2d47d887-96e8-4162-9fa1-b46193d021c3\")) {                    Plotly.newPlot(                        \"2d47d887-96e8-4162-9fa1-b46193d021c3\",                        [{\"alignmentgroup\":\"True\",\"bingroup\":\"x\",\"hovertemplate\":\"error=%{x}\\u003cbr\\u003ecount=%{y}\\u003cextra\\u003e\\u003c\\u002fextra\\u003e\",\"legendgroup\":\"\",\"marker\":{\"color\":\"#636efa\",\"pattern\":{\"shape\":\"\"}},\"name\":\"\",\"nbinsx\":50,\"offsetgroup\":\"\",\"orientation\":\"v\",\"showlegend\":false,\"x\":[-2.8163516981362164,-4.378692898790291,15.679550967220905,4.843425793322595,-0.9245660357680947,-4.345030252423157,1.5765119669542287,-5.843687248622743,-1.7265471402102577,-9.035145808703007,-7.165571328753103,-17.263641953638015,-5.413596859044716,6.866292691082677,-10.70265108012562,7.1074283697384,5.584584033082706,35.32819314462965,-0.41020287907205955,26.209586853310668,-11.500862669420584,-11.94887280399763,14.465682173173647,2.1557556942568823,-7.3428311318964035,11.73920772529533,-0.5096309249361468,0.9550242101391859,-9.54711624137002,-1.8163181156752444,-0.07260981090564655,13.583411201422564,-15.22127848871959,10.468681820412378,13.435099693070185,-2.784190080731179,-12.810866089669375,-22.215297608566317,-0.5791244443088601,-16.701469083843577,-2.768518767678387,16.823148958411593,-16.70091357825065,6.872413225637061,3.0830326859232287,1.8829856579758655,-9.610973052411538,3.2073266389436554,-0.22596069025350118,0.7127922560313209,-13.705239858750303,-5.580299436413426,7.515483636756727,-16.741727459576595,-5.71230754499183,13.174192040663286,7.8270920218851785,1.2749992065716924,6.745888144309021,-12.256398645708828,4.926857339841376,10.867273757951338,12.976114662105886,3.2167164917995024,-3.834208652092883,4.548866249057298,-7.4158031369062485,-25.360292913186825,-10.236034589297418,-3.829739642762945,0.10059883827362626,17.517818048577297,4.40258142278671,16.86008387643072,-4.634198610645981,-2.3463036393682444,-3.4888489778630714,4.6046690554107315,10.568028017309643,-8.641670655343745,22.091566808759623,15.76061777494698,0.5917474499306081,-2.067542273680232,-10.215089506153006,8.260753095596087,13.910120092578836,5.553085069728127,24.697390519718482,-9.863337963280244,-5.1252533958159034,8.7167131907227,4.228146928398488,-0.638497432688709,-6.7543073018512985,-6.118002966656036,3.800207647994256,-5.604618341521061,-6.290884141368025,-1.473309089922438,-9.594415850906259,2.792986818308151,-10.983738484880618,1.1415215088960906,-10.25293715363486,5.22554967032751,-5.852953693363375,-21.780130669589624,-9.284649440855858,7.176710859349356,6.215879720854318,-0.2398296584923969,3.7061752558062864,-6.951416788162973,-16.417979438872692,3.859236151987318,-2.365825740149738,1.991751528559405,4.101012797023017,15.760825945899398,6.651302136936636,9.040890463887294,-0.8660338528468543,-10.615691768501009,-5.649471207581115,12.256005598604574,4.8106212414439256,-5.841442179854965,11.370923346070043,8.2302183031465,-1.4607869190198386,-32.703276681464104,5.301656529844266,17.439607582765888,-5.18247860368362,0.03235028240085569,-7.912119831806535,-19.199675137378392,-10.112809191259714,10.763403901007123,-1.034171708079512,11.588832320191997,1.3491663685006614,-20.370946745400843,3.409838884436951,21.45752735619064,2.2375392983365856,10.768660264968503,3.6110466193756565,4.9575147907004435,-2.3352263575229273,10.717583367738342,-10.567340591617096,2.1111633694374774,-11.89483117796783,-1.677632188200434,-10.203799947581558,7.846331285126496,-2.9161484773954243,-2.5146412983897477,8.514248292790867,-2.5083547850403747,-8.885777401481235,-2.68925813871968,-1.4678502043553436,-9.674118479424408,-3.529495835780608,9.088657138324649,12.802841728992064,5.481590465412751,-9.370039072213373,-1.811731829438557,7.769628263651981,-18.588795828718418,-12.052414915735739,10.455223847659525,12.174293841521092,3.2319702247975073,6.650758202065262,3.8062640194716835,9.835942203213222,-3.4746398759737076,-4.835096675047055,-0.21037945443328,-10.750318289691563,-11.14298540298789,4.913922467582026,4.629187194723244,-8.63725758085124,-2.0684001559604326,18.18196689103162,0.04582888882734437,2.9733623970339806,12.473469688726482,-15.34899277257314,-0.8449946850934396,-5.02844369189927,9.772717642546695,1.27959854438852,-3.074898356845665,-3.337743452957838,-2.5549004765101984,-5.264406931847674,0.19860042657742838,-12.48441895385784,-5.646393443760417,-22.776525321232768,-18.309372990799062,-3.845144530366724,-0.9333566218544433,3.424567594321502,21.370334509534175,9.51661165072504,0.9120472178539245,-12.912655663701265,-13.405622479738085,-4.026398208047283,-15.153745907428174,-6.678119461533797,-0.14259081099035598,5.0779542562570725,6.6273146437224995,-21.005638551140265,10.257326032333111,-7.650495809666467,4.844687827628647,0.7758270061711414,8.414376025430485,16.870311151766174,-0.4787797431086602,8.497919916768069,1.247352345623355,-3.4222699712147744,-1.4763370642421165,-15.080061301003603,7.118041614224069,-2.3191287916187378,0.43473972453423926,-4.893624640444557,-4.845308059804665,-13.084854048019196,-6.422880678628857,2.485897583601286,4.480047410197301,6.643007787174554,10.878864464368405,5.081004696059381,-10.785977249546093,-4.638417625556656,7.353625125880612,-9.758476090319903,-5.828568316272296,-6.947757881534642,3.766261631402685,-4.903673524149781,5.781325857130909,7.379245818519706,7.505749296717198,16.454339732294784,-4.519619561068133,5.342350425893528,12.736388635162854,-14.524896314091663,-1.9983095698621867,-9.86293621882811,6.487283884721791,8.60048115379253,17.77535587869636,5.4298669896130605,-14.705638985920032,21.291738139853052,13.61898391992652,3.5057844603033033,-10.14030280641353,-6.47778339216967,4.827576980207098,-31.03995104749434,2.7081820207268805,5.910626347882172,-26.25989556580283,0.4609127753230382,8.368148100319843,6.020492550536545,-8.401087550361126,-4.949283538407897,9.836712508920215,-4.550386412020998,0.5467041832174147,22.051361014267613,13.285315817312167,-24.299487863167826,14.650992777817848,3.904974772346023,14.688362380595208,0.9597416491098443,-11.337843948480284,-12.639612296655542,-4.896874361146146,1.5291637609379762,2.9655960933761634,0.7387329903359756,-9.497860438227463,-2.335031420630429,-4.928293735952053,-1.182491618921219,-0.6200542586553865,-10.017047694660036,-4.006529972155207,-1.500061159099232,13.513016126733163,-7.175174577129226,-6.963864412939586,-0.3961646573538218,-2.3375269650724135,20.16535355676755,13.480057561953991,-1.8163803082377399,-10.143152478593379,4.302442696624496,7.573290958824032,13.961255034924335,-6.360806121397999,9.101014663790721,1.3989725195272626,3.9471467991499196,9.514038710598442,-9.550286538169303,6.901188905101506,-19.238037024641358,4.089028539022351,-9.76553148592749,0.9784502237077533,11.395010988167385,9.031950509634164,-8.249928736899989,-12.274967010102756,8.32940606953889,-24.77792452837808,-13.222488011552727,6.06043778534233,-8.419345385228965,-19.0682650615245,0.37446091104825996,1.7752112667191255,-4.376183183300753,16.910070544307942,-13.185229382505426,1.6798663486829213,-25.948586747856282,4.922248216578538,-1.159851143696855,-7.758544332308318,-10.321761728264207,-16.348295618201718,-10.395726838993497,6.632001681414124,2.315193673793857,4.851580375387044,-4.8384540523475295,9.29337242167307,-22.736314013644318,-9.26767536026108,9.221802494552733,-2.5458443248785443,1.1105521335717299,2.998357685028239,-11.02661382285578,-7.378738566091343,2.274860542968284,-13.267183981006411,-0.5832544813706306,0.2886892043583913,8.601189538492804,-13.72643936815065,4.305163749346278,-17.13720322213726,12.289613120514773,-5.090274555829467,11.30423981984147,1.0372389275732985,-0.08506724321399872,4.071837220349664,4.448279805117878,-14.284949939959617,-2.7222334009594107,-8.198340582583711,3.2031029774569078,0.3544169338920966,-6.245535294727375,-1.2396464942441554,3.4877359470180096,-0.08590477932999363,18.292489118699635,-14.713444650377511,6.706831965678234,7.951197720305913,8.052781469387682,-6.258308067866764,9.743480770924428,-11.51550137056556,13.609233744412293,-4.29738264820358,4.831966320505998,-3.9021160096834677,-8.835177324141483,-4.87140856124347,15.138650904026392,9.334599873153664,-19.391005984014853,-3.0888585383768827,-4.240916441898037,10.444203918971638,3.2276217423813307,8.38071077362821,10.928898394721983,-6.381966796504784,9.877231048750488,12.264326065516826,20.18660831846313,-7.6246037568544125,3.8139419805818022,17.729631112821792,16.732926657602775,6.975966728476351,-12.163422541280198,-1.4549503506490424,0.47318407434440246,-0.4115743420096578,-22.812050458987272,3.706336769325901,3.4225117494708996,-12.49494695710591,2.3122873026966033,13.932352296118225,-7.549976794942012,1.230781009478548,-4.074706404875357,-9.503531900391408,-2.175195699645556,6.861732491380309,2.430610411246178,8.760224946699239,-13.38609735236139,6.428504931894565,1.5273452147143303,-11.144114442270293,-13.587837347275396,-2.349914027630547,-1.796435102324466,-9.426115389233217,23.396091969086513,-1.734675608476934,-0.8145426794783788,11.879493071459152,-15.368551321676406,-2.193805576866353,17.652382172168345,-1.3492413116024977,3.961836924662407,-15.163601175652701,2.617341915662223,-1.893605687719429,3.509365114067961,-2.888286866823634,-18.909380917891866,-1.2048002183616973,7.756826676013645,-1.5659875249943411,-9.756273164949548,-7.281522274904702,3.645854823080299,-0.024590595171062546,3.6813508137836237,2.395931608339282,-15.059120261901299,3.701393357835755,-4.242351031852891,-4.131587157497066,-10.639198362452674,-0.20363095010149834,-3.172300639508151,-21.840516616442272,-2.412112790418661,-14.456297538840118,7.991899263284321,8.56068444792156,2.7587653040780538,9.805106193214783,2.69191954627766,-4.738692535872772,-1.5234168140157607,-12.362620263995396,10.122909370353753,10.477919511183742,-13.200820398440712,-3.9735512686292225,3.362295924801103,6.92072341442335,-5.915062473763484,-0.3962411084188915,7.406629280515489,1.3153359211764553,8.841373094964368,2.7120629414687016,-6.189262447147101,8.744133502162875,-2.5277260289287824,5.679047006239088,13.286823354266986,-3.854521597125654,-15.488907974895824,4.411798199743288,8.015153990805388,2.554203263156694,5.0272331912577926,-9.220513857493629,0.5024450250423484,8.881126396307181,-11.955995457120324,8.009478825501262,-10.095146876448013,-1.107876974626251,1.6642468655079057,-5.803090994043572,20.165793855114117,-9.691245545554239,5.679072420411984,2.6245846387629967,12.92202182833077,21.472785423270835,-1.409733678405857,-12.910812389330786,17.739244471120898,14.628747897184354,-8.291316697036123,-6.0237960868306715,3.7647320307005145,-13.372536438887096,8.49930503595705,-1.54315584975609,9.194434387923792,-0.38839801680187236,0.32159540381155693,-3.102657910669606,-8.374125954186354,1.830659104390982,1.978712483540363,-12.83350750780744,-6.380003370226007,-10.034690325558756,-10.526579061030475,17.550415112289073,5.621284869588067,15.640268416502408,13.978477228725026,-3.1129412622680235,-6.217453796321706,-6.6046169579213085,11.334659928131117,-11.9490791760919,-8.020015957152793,-16.224764357323053,4.380108920129942,-3.687669262997076,-22.423141470651615,4.961907815042807,-2.4207338395384284,3.576473276247995,10.936747216957272,13.616097937724106,9.683884645879786,-4.989722433867357,-2.2810095889569197,0.3434964634356703,17.974298624210377,-1.2754452388567188,-6.804697573914794,-10.654081700684372,2.111260328719638,-3.8071973004398103,-2.0609174537812436,-2.2280239797244548,1.2997425003708116,-4.543964815145756,4.212173417464015,4.290517308964198,-17.718854800930217,-10.577987563969344,15.767695655511531,17.036081866363176,-2.006885450491538,2.4361362040064733,-10.807509855882373,16.806087135011282,16.02004943908421,7.408170257232712,10.629602725107532,-4.260468222422816,18.062096230431266,10.103252260630299,5.258057994908498,5.695925509102651,-17.688129012564502,-21.95696033735672,7.632158374732427,16.031109880667827,0.44830841738966853,-5.850561921888627,3.5102575798656375,2.140118526359032,1.2604402355903304,4.5679313339435055,-4.2465960981570845,-1.8275753553302962,-1.9267730088128872,9.97462767342006,-27.692292983925228,3.8858138366149007,-6.121026200215141,0.022741944174811124,0.3721556612114938,-9.026088178936618,9.960799262356865,-1.8038407044285947,-1.5748989371980002,6.859016766581817,12.346036610339866,-1.9983655231978474,-2.4502128126909213,-7.678928043544758,-3.851506263331814,-15.096456335835626,3.9982164539593867,-6.164091734425867,-9.26760166736993,-16.83091590712624,8.558247490402096,-9.733709824920027,2.182586286518074,-0.09790600715066944,3.4999010875603744,1.1183848448953881,-6.614478508435411,-14.46431017651463,4.513841624103151,-4.997095683243046,5.870660202198152,-3.3668500160760857,-9.519988909861723,4.978042664635744,9.45989004698157,7.018307203691023,1.2802746473189757,15.857988439710184,3.9916424542310267,-2.4828372840836153,1.6811592006118872,-9.972987582955867,9.0358568146535,-3.5160523449892764,12.683924580633807,-1.2842196201951452,14.24976536231297,-0.7581672490918834,13.444336209582701,-5.899397111904506,5.969096959272775,4.759958487135535,3.3723920005793957,-6.1506244730790485,-2.3345852297306067,-4.546138849735257,7.907868764462535,3.7997469691517978,7.032547369083787,8.414308543854062,-2.405510111908484,7.707396483507068,-6.062906894853825,-15.88267993936158,-2.0909040387020923,-1.3611188577451827,1.4862126615308142,-13.176735700827749,6.361901670400101,-8.469481232268322,-9.096076264041344,2.552891585122282,11.984761500353741,-2.2760617925917757,6.568357711238434,-2.59261775268898,12.589412935498771,10.869474011176706,-11.013004962616208,4.01289929688285,4.643697735355062,-6.4603714859639325,2.5675865162297953,2.35129337043648,-0.08273615295493997,20.785523541964466,2.1216451084683285,-0.665310681509041,-13.99292505407989,14.48823509476263,-4.0403902621424805,6.492023837549965,-10.629609638687015,-12.113580738110485,-18.094444767137162,-7.579339615527999,15.276647275598492,11.715193952841275,1.941050243680948,-3.8630906230838775,-0.7568850771595379,19.767431383688702,-7.5999495505468815,-12.518898073326582,8.490588935626377,4.9399708935254125,-10.95303576915029,-12.416327322163696,-1.5415955780865431,2.6082446644817736,6.251909940815295,7.06523602993029,9.196874731116594,-10.707115310570629,11.190364724710903,1.9125502655871855,3.549686119742205,-8.87410841008706,-7.959323806897686,-2.050693694316905,8.84965373628178,-15.219492164736735,5.873536141352631,-2.7592195021257453,-4.8557263425215496,7.793253692265154,2.330234084948451,9.815466613268342,-12.35239019693121,1.0880600491245929,-19.268452284371563,12.231839661533016,-6.328784841889515,-25.351733664688382,24.914472807010767,-18.594537753849636,10.918310325035222,-1.7685358161577227,8.214825920020559,9.335508795325595,-18.070817021943114,-5.413166829311493,8.239561610075228,2.075635710353211,-16.166233922726065,-12.50971514668602,4.8329221712329655,23.104493570156208,5.062373027445403,0.6038352766993,5.792230989559172,4.94087681194064,2.0547626773225574,-8.694854184295494,7.633549771674993,-1.1329417087515594,-4.2935580040970365,22.110750292939443,9.444321986759178,10.205745003108433,29.449193586569123,-3.347621443071745,11.270807781965942,7.706021088756273,-6.799178975047525,9.236360250357535,7.870440061670166,1.8380021067980437,2.992969092877786,10.496006354029063,13.65374440443044,4.284107116398005,-7.2910682402422395,16.07937447601894,0.8334793041242108,0.5974999380630237,10.385284092330416,-17.278128618536442,6.550244980771026,2.5481910749996928,-1.6793818614437015,8.602414714477433,-1.6062515285716472,-7.246957954406142,-1.5718505713944069,3.507249651595771,-0.894376949028441,-10.154931485484141,6.517217592579101,-3.905662661918811,-12.460715761992404,19.774561635062085,13.004429729636627,-2.2681721989662265,18.970350448493093,-25.956462546159486,-1.1941284773126597,2.09198660370474,2.654289619737,-10.669260876697777,-8.541044001722625,2.5534040227589685,8.98513232914172,1.426818679855998,-11.006404316088592,0.6287363788594433,-0.8578487631681639,-2.056808862992682,0.43830124862213893,-7.104684533601784,3.466259831594641,1.9379006855128722,-13.652451390639428,9.353166049064242,-2.639578277317753,8.445291937911435,-1.9618811073283666,6.936473490123348,1.943352707934551,-6.403714401948378,-20.179224852053125,6.080143725964632,13.368576909426437,-13.280242716514763,7.349152493437714,-18.43359294856336,19.51281768561276,12.916114114507764,-21.972727899146406,15.07402764512976,-5.851097344301969,13.565211138917064,-2.4908294457154625,9.881160801191456,19.29921434099714,-8.988295522878758,5.224347172384938,-3.963295030995411,4.063079203125326,-9.639416386686264,8.905152072532019,12.6110904974839,-5.677427787809705,-14.370728374080073,9.559752422107266,-9.072952367648526,-14.021536502028084,2.694396102105756,-17.044136958585028,-0.3828264705215929,-0.7879689359503601,-7.164530866541426,9.515772654496928,2.0374766948032033,19.35604760409626,6.855761635406651,-5.147484868360749,14.172963774696484,18.95177128705396,-6.110123980084424,3.559349669092853,-20.772889839939793,3.178049064318941,-20.365375367258665,-7.765594896702055,-1.5268153904001025,-2.594319954823092,-9.751879930897516,9.206939465762645,-8.594771870347316,-12.120553642267225,-1.1117218200616463,-1.2014522835301733,6.9066363092215965,-12.198815842392698,-7.948268101907132,-1.743993577228025,-7.010930649166681,28.099829969871962,26.675592394827063,11.938399329184293,8.391581489746969,-3.0156548438970816,6.002743309259955,14.543273315309307,-7.632755285983933,-8.387947046542749,1.9941206144218313,-11.701898878144313,-7.4608853584414305,4.57133317462899,10.547806271641136,-10.002127407270223,0.5050483831246311,-12.211833491242729,5.555273458329083,-5.475887002412875,2.007300776152775,-5.286553671020329,3.209126572770913,7.042441351784447,4.344096960697783,17.55083917543071,-7.293927526367199,6.8275746916315825,-23.55702573388966,-15.099427935234047,-9.76224433906495,-9.840443332793349,-6.715172984012128,7.0026499395801665,-21.765128198949114,7.114528849301578,-22.088532094321295,3.5146563871950605,2.2140329357289517,-10.890153608977187,2.0690795054473483,2.2747391620431188,7.787535505599976,-6.945474243143906,-3.0359269670866667,-3.6974393676304373,-10.217037520826011,4.284848120433395,-25.81552986691304,10.19534224097498,-6.62276857492283,-4.1882459699181,12.742203499954002,-6.353894801706829,-3.6316012040628607,1.4452689014388511,-13.79554352964287,-13.920424598662422,6.8818978300332105,26.422623230041772,-9.638107215149589,10.016322404615835,3.1238116360541426,-8.245746615994761,-27.166476988750432,2.5648964363269897,12.15518919190096,-20.64932502976437,-5.124177795468853,-5.636415450332606,3.1566892117204333,8.506506113955787,36.83341963601629,24.01297566891745,2.435577121865947,-5.748230683629586,-1.4365194099304404,-9.00873360849576,-6.557139653376922,11.948711166636514,4.082325530824633,-8.000911049514258,12.428603663408552,-4.661665951511594,5.627875718866768,7.184527795582241,8.137310106321394,-10.957195636904615,0.7007722581695646,-3.477690384502978,-21.113177435841635,4.078764113120187,13.645601804140654,13.254501801350614,-5.558337533203272,7.581687828694314,-1.7193685975155972,22.41717432508284,6.8399947958951515,19.162251733490706,-17.59751857444502,9.892305735296404,3.2742920433324656,6.471825349190681,-14.77329830464609,-1.4512769143932047,0.7069630206334807],\"xaxis\":\"x\",\"yaxis\":\"y\",\"type\":\"histogram\"}],                        {\"template\":{\"data\":{\"histogram2dcontour\":[{\"type\":\"histogram2dcontour\",\"colorbar\":{\"outlinewidth\":0,\"ticks\":\"\"},\"colorscale\":[[0.0,\"#0d0887\"],[0.1111111111111111,\"#46039f\"],[0.2222222222222222,\"#7201a8\"],[0.3333333333333333,\"#9c179e\"],[0.4444444444444444,\"#bd3786\"],[0.5555555555555556,\"#d8576b\"],[0.6666666666666666,\"#ed7953\"],[0.7777777777777778,\"#fb9f3a\"],[0.8888888888888888,\"#fdca26\"],[1.0,\"#f0f921\"]]}],\"choropleth\":[{\"type\":\"choropleth\",\"colorbar\":{\"outlinewidth\":0,\"ticks\":\"\"}}],\"histogram2d\":[{\"type\":\"histogram2d\",\"colorbar\":{\"outlinewidth\":0,\"ticks\":\"\"},\"colorscale\":[[0.0,\"#0d0887\"],[0.1111111111111111,\"#46039f\"],[0.2222222222222222,\"#7201a8\"],[0.3333333333333333,\"#9c179e\"],[0.4444444444444444,\"#bd3786\"],[0.5555555555555556,\"#d8576b\"],[0.6666666666666666,\"#ed7953\"],[0.7777777777777778,\"#fb9f3a\"],[0.8888888888888888,\"#fdca26\"],[1.0,\"#f0f921\"]]}],\"heatmap\":[{\"type\":\"heatmap\",\"colorbar\":{\"outlinewidth\":0,\"ticks\":\"\"},\"colorscale\":[[0.0,\"#0d0887\"],[0.1111111111111111,\"#46039f\"],[0.2222222222222222,\"#7201a8\"],[0.3333333333333333,\"#9c179e\"],[0.4444444444444444,\"#bd3786\"],[0.5555555555555556,\"#d8576b\"],[0.6666666666666666,\"#ed7953\"],[0.7777777777777778,\"#fb9f3a\"],[0.8888888888888888,\"#fdca26\"],[1.0,\"#f0f921\"]]}],\"heatmapgl\":[{\"type\":\"heatmapgl\",\"colorbar\":{\"outlinewidth\":0,\"ticks\":\"\"},\"colorscale\":[[0.0,\"#0d0887\"],[0.1111111111111111,\"#46039f\"],[0.2222222222222222,\"#7201a8\"],[0.3333333333333333,\"#9c179e\"],[0.4444444444444444,\"#bd3786\"],[0.5555555555555556,\"#d8576b\"],[0.6666666666666666,\"#ed7953\"],[0.7777777777777778,\"#fb9f3a\"],[0.8888888888888888,\"#fdca26\"],[1.0,\"#f0f921\"]]}],\"contourcarpet\":[{\"type\":\"contourcarpet\",\"colorbar\":{\"outlinewidth\":0,\"ticks\":\"\"}}],\"contour\":[{\"type\":\"contour\",\"colorbar\":{\"outlinewidth\":0,\"ticks\":\"\"},\"colorscale\":[[0.0,\"#0d0887\"],[0.1111111111111111,\"#46039f\"],[0.2222222222222222,\"#7201a8\"],[0.3333333333333333,\"#9c179e\"],[0.4444444444444444,\"#bd3786\"],[0.5555555555555556,\"#d8576b\"],[0.6666666666666666,\"#ed7953\"],[0.7777777777777778,\"#fb9f3a\"],[0.8888888888888888,\"#fdca26\"],[1.0,\"#f0f921\"]]}],\"surface\":[{\"type\":\"surface\",\"colorbar\":{\"outlinewidth\":0,\"ticks\":\"\"},\"colorscale\":[[0.0,\"#0d0887\"],[0.1111111111111111,\"#46039f\"],[0.2222222222222222,\"#7201a8\"],[0.3333333333333333,\"#9c179e\"],[0.4444444444444444,\"#bd3786\"],[0.5555555555555556,\"#d8576b\"],[0.6666666666666666,\"#ed7953\"],[0.7777777777777778,\"#fb9f3a\"],[0.8888888888888888,\"#fdca26\"],[1.0,\"#f0f921\"]]}],\"mesh3d\":[{\"type\":\"mesh3d\",\"colorbar\":{\"outlinewidth\":0,\"ticks\":\"\"}}],\"scatter\":[{\"fillpattern\":{\"fillmode\":\"overlay\",\"size\":10,\"solidity\":0.2},\"type\":\"scatter\"}],\"parcoords\":[{\"type\":\"parcoords\",\"line\":{\"colorbar\":{\"outlinewidth\":0,\"ticks\":\"\"}}}],\"scatterpolargl\":[{\"type\":\"scatterpolargl\",\"marker\":{\"colorbar\":{\"outlinewidth\":0,\"ticks\":\"\"}}}],\"bar\":[{\"error_x\":{\"color\":\"#2a3f5f\"},\"error_y\":{\"color\":\"#2a3f5f\"},\"marker\":{\"line\":{\"color\":\"#E5ECF6\",\"width\":0.5},\"pattern\":{\"fillmode\":\"overlay\",\"size\":10,\"solidity\":0.2}},\"type\":\"bar\"}],\"scattergeo\":[{\"type\":\"scattergeo\",\"marker\":{\"colorbar\":{\"outlinewidth\":0,\"ticks\":\"\"}}}],\"scatterpolar\":[{\"type\":\"scatterpolar\",\"marker\":{\"colorbar\":{\"outlinewidth\":0,\"ticks\":\"\"}}}],\"histogram\":[{\"marker\":{\"pattern\":{\"fillmode\":\"overlay\",\"size\":10,\"solidity\":0.2}},\"type\":\"histogram\"}],\"scattergl\":[{\"type\":\"scattergl\",\"marker\":{\"colorbar\":{\"outlinewidth\":0,\"ticks\":\"\"}}}],\"scatter3d\":[{\"type\":\"scatter3d\",\"line\":{\"colorbar\":{\"outlinewidth\":0,\"ticks\":\"\"}},\"marker\":{\"colorbar\":{\"outlinewidth\":0,\"ticks\":\"\"}}}],\"scattermapbox\":[{\"type\":\"scattermapbox\",\"marker\":{\"colorbar\":{\"outlinewidth\":0,\"ticks\":\"\"}}}],\"scatterternary\":[{\"type\":\"scatterternary\",\"marker\":{\"colorbar\":{\"outlinewidth\":0,\"ticks\":\"\"}}}],\"scattercarpet\":[{\"type\":\"scattercarpet\",\"marker\":{\"colorbar\":{\"outlinewidth\":0,\"ticks\":\"\"}}}],\"carpet\":[{\"aaxis\":{\"endlinecolor\":\"#2a3f5f\",\"gridcolor\":\"white\",\"linecolor\":\"white\",\"minorgridcolor\":\"white\",\"startlinecolor\":\"#2a3f5f\"},\"baxis\":{\"endlinecolor\":\"#2a3f5f\",\"gridcolor\":\"white\",\"linecolor\":\"white\",\"minorgridcolor\":\"white\",\"startlinecolor\":\"#2a3f5f\"},\"type\":\"carpet\"}],\"table\":[{\"cells\":{\"fill\":{\"color\":\"#EBF0F8\"},\"line\":{\"color\":\"white\"}},\"header\":{\"fill\":{\"color\":\"#C8D4E3\"},\"line\":{\"color\":\"white\"}},\"type\":\"table\"}],\"barpolar\":[{\"marker\":{\"line\":{\"color\":\"#E5ECF6\",\"width\":0.5},\"pattern\":{\"fillmode\":\"overlay\",\"size\":10,\"solidity\":0.2}},\"type\":\"barpolar\"}],\"pie\":[{\"automargin\":true,\"type\":\"pie\"}]},\"layout\":{\"autotypenumbers\":\"strict\",\"colorway\":[\"#636efa\",\"#EF553B\",\"#00cc96\",\"#ab63fa\",\"#FFA15A\",\"#19d3f3\",\"#FF6692\",\"#B6E880\",\"#FF97FF\",\"#FECB52\"],\"font\":{\"color\":\"#2a3f5f\"},\"hovermode\":\"closest\",\"hoverlabel\":{\"align\":\"left\"},\"paper_bgcolor\":\"white\",\"plot_bgcolor\":\"#E5ECF6\",\"polar\":{\"bgcolor\":\"#E5ECF6\",\"angularaxis\":{\"gridcolor\":\"white\",\"linecolor\":\"white\",\"ticks\":\"\"},\"radialaxis\":{\"gridcolor\":\"white\",\"linecolor\":\"white\",\"ticks\":\"\"}},\"ternary\":{\"bgcolor\":\"#E5ECF6\",\"aaxis\":{\"gridcolor\":\"white\",\"linecolor\":\"white\",\"ticks\":\"\"},\"baxis\":{\"gridcolor\":\"white\",\"linecolor\":\"white\",\"ticks\":\"\"},\"caxis\":{\"gridcolor\":\"white\",\"linecolor\":\"white\",\"ticks\":\"\"}},\"coloraxis\":{\"colorbar\":{\"outlinewidth\":0,\"ticks\":\"\"}},\"colorscale\":{\"sequential\":[[0.0,\"#0d0887\"],[0.1111111111111111,\"#46039f\"],[0.2222222222222222,\"#7201a8\"],[0.3333333333333333,\"#9c179e\"],[0.4444444444444444,\"#bd3786\"],[0.5555555555555556,\"#d8576b\"],[0.6666666666666666,\"#ed7953\"],[0.7777777777777778,\"#fb9f3a\"],[0.8888888888888888,\"#fdca26\"],[1.0,\"#f0f921\"]],\"sequentialminus\":[[0.0,\"#0d0887\"],[0.1111111111111111,\"#46039f\"],[0.2222222222222222,\"#7201a8\"],[0.3333333333333333,\"#9c179e\"],[0.4444444444444444,\"#bd3786\"],[0.5555555555555556,\"#d8576b\"],[0.6666666666666666,\"#ed7953\"],[0.7777777777777778,\"#fb9f3a\"],[0.8888888888888888,\"#fdca26\"],[1.0,\"#f0f921\"]],\"diverging\":[[0,\"#8e0152\"],[0.1,\"#c51b7d\"],[0.2,\"#de77ae\"],[0.3,\"#f1b6da\"],[0.4,\"#fde0ef\"],[0.5,\"#f7f7f7\"],[0.6,\"#e6f5d0\"],[0.7,\"#b8e186\"],[0.8,\"#7fbc41\"],[0.9,\"#4d9221\"],[1,\"#276419\"]]},\"xaxis\":{\"gridcolor\":\"white\",\"linecolor\":\"white\",\"ticks\":\"\",\"title\":{\"standoff\":15},\"zerolinecolor\":\"white\",\"automargin\":true,\"zerolinewidth\":2},\"yaxis\":{\"gridcolor\":\"white\",\"linecolor\":\"white\",\"ticks\":\"\",\"title\":{\"standoff\":15},\"zerolinecolor\":\"white\",\"automargin\":true,\"zerolinewidth\":2},\"scene\":{\"xaxis\":{\"backgroundcolor\":\"#E5ECF6\",\"gridcolor\":\"white\",\"linecolor\":\"white\",\"showbackground\":true,\"ticks\":\"\",\"zerolinecolor\":\"white\",\"gridwidth\":2},\"yaxis\":{\"backgroundcolor\":\"#E5ECF6\",\"gridcolor\":\"white\",\"linecolor\":\"white\",\"showbackground\":true,\"ticks\":\"\",\"zerolinecolor\":\"white\",\"gridwidth\":2},\"zaxis\":{\"backgroundcolor\":\"#E5ECF6\",\"gridcolor\":\"white\",\"linecolor\":\"white\",\"showbackground\":true,\"ticks\":\"\",\"zerolinecolor\":\"white\",\"gridwidth\":2}},\"shapedefaults\":{\"line\":{\"color\":\"#2a3f5f\"}},\"annotationdefaults\":{\"arrowcolor\":\"#2a3f5f\",\"arrowhead\":0,\"arrowwidth\":1},\"geo\":{\"bgcolor\":\"white\",\"landcolor\":\"#E5ECF6\",\"subunitcolor\":\"white\",\"showland\":true,\"showlakes\":true,\"lakecolor\":\"white\"},\"title\":{\"x\":0.05},\"mapbox\":{\"style\":\"light\"}}},\"xaxis\":{\"anchor\":\"y\",\"domain\":[0.0,1.0],\"title\":{\"text\":\"error\"}},\"yaxis\":{\"anchor\":\"x\",\"domain\":[0.0,1.0],\"title\":{\"text\":\"count\"}},\"legend\":{\"tracegroupgap\":0},\"margin\":{\"t\":60},\"barmode\":\"relative\",\"width\":800},                        {\"responsive\": true}                    ).then(function(){\n",
              "                            \n",
              "var gd = document.getElementById('2d47d887-96e8-4162-9fa1-b46193d021c3');\n",
              "var x = new MutationObserver(function (mutations, observer) {{\n",
              "        var display = window.getComputedStyle(gd).display;\n",
              "        if (!display || display === 'none') {{\n",
              "            console.log([gd, 'removed!']);\n",
              "            Plotly.purge(gd);\n",
              "            observer.disconnect();\n",
              "        }}\n",
              "}});\n",
              "\n",
              "// Listen for the removal of the full notebook cells\n",
              "var notebookContainer = gd.closest('#notebook-container');\n",
              "if (notebookContainer) {{\n",
              "    x.observe(notebookContainer, {childList: true});\n",
              "}}\n",
              "\n",
              "// Listen for the clearing of the current output cell\n",
              "var outputEl = gd.closest('.output');\n",
              "if (outputEl) {{\n",
              "    x.observe(outputEl, {childList: true});\n",
              "}}\n",
              "\n",
              "                        })                };                            </script>        </div>\n",
              "</body>\n",
              "</html>"
            ]
          },
          "metadata": {}
        }
      ]
    },
    {
      "cell_type": "markdown",
      "source": [
        "Mean Absolute Error - Średni błąd bezwzględny MAE"
      ],
      "metadata": {
        "id": "ZBN60vBlTMBo"
      }
    },
    {
      "cell_type": "code",
      "source": [
        "def mean_absolute_error(y_true,y_pred):\n",
        "    return abs(y_true-y_pred).sum()/len(y_true)"
      ],
      "metadata": {
        "id": "oo4jt7-1Se3s"
      },
      "execution_count": 18,
      "outputs": []
    },
    {
      "cell_type": "code",
      "source": [
        "from sklearn.metrics import mean_absolute_error\n",
        "mean_absolute_error(y_true,y_pred)"
      ],
      "metadata": {
        "colab": {
          "base_uri": "https://localhost:8080/"
        },
        "id": "TDLp8uchTdaG",
        "outputId": "84370999-0719-4df7-e392-678dd266a402"
      },
      "execution_count": 19,
      "outputs": [
        {
          "output_type": "execute_result",
          "data": {
            "text/plain": [
              "8.040627668284895"
            ]
          },
          "metadata": {},
          "execution_count": 19
        }
      ]
    },
    {
      "cell_type": "markdown",
      "source": [
        "MEan Squared Error MSE"
      ],
      "metadata": {
        "id": "kASuu4h_T0uH"
      }
    },
    {
      "cell_type": "code",
      "source": [
        "from sklearn.metrics import mean_squared_error\n",
        "\n",
        "mean_absolute_error(y_true,y_pred)"
      ],
      "metadata": {
        "colab": {
          "base_uri": "https://localhost:8080/"
        },
        "id": "qFn4nEV9TwOT",
        "outputId": "9696baf4-348f-475c-8caf-7e5e38587875"
      },
      "execution_count": 20,
      "outputs": [
        {
          "output_type": "execute_result",
          "data": {
            "text/plain": [
              "8.040627668284895"
            ]
          },
          "metadata": {},
          "execution_count": 20
        }
      ]
    },
    {
      "cell_type": "markdown",
      "source": [
        "Root Mean Squared Error - RMSE - Pierwiastek błędu średniokwadratowego"
      ],
      "metadata": {
        "id": "7QDYM-WVUJso"
      }
    },
    {
      "cell_type": "code",
      "source": [
        "np.sqrt(mean_squared_error(y_true,y_pred))"
      ],
      "metadata": {
        "colab": {
          "base_uri": "https://localhost:8080/"
        },
        "id": "pE0mhPQvUCrg",
        "outputId": "63a39138-ffb1-49d0-e5ca-8d85ca7a2462"
      },
      "execution_count": 22,
      "outputs": [
        {
          "output_type": "execute_result",
          "data": {
            "text/plain": [
              "10.133783850409202"
            ]
          },
          "metadata": {},
          "execution_count": 22
        }
      ]
    },
    {
      "cell_type": "markdown",
      "source": [
        "Max Error - błąd maxymalny"
      ],
      "metadata": {
        "id": "nIiK-aHSUiHB"
      }
    },
    {
      "cell_type": "code",
      "source": [
        "from sklearn.metrics import max_error\n",
        "\n",
        "max_error(y_true,y_pred)"
      ],
      "metadata": {
        "colab": {
          "base_uri": "https://localhost:8080/"
        },
        "id": "5YjSx9k4Uhfy",
        "outputId": "75b5c704-7ec0-4eeb-dcb5-cd8fd793b98b"
      },
      "execution_count": 23,
      "outputs": [
        {
          "output_type": "execute_result",
          "data": {
            "text/plain": [
              "36.83341963601629"
            ]
          },
          "metadata": {},
          "execution_count": 23
        }
      ]
    },
    {
      "cell_type": "markdown",
      "source": [
        "R2 Score - współczynnik determinacji"
      ],
      "metadata": {
        "id": "pBJ4yVvyUrbj"
      }
    },
    {
      "cell_type": "code",
      "source": [
        "from sklearn.metrics import r2_score\n",
        "\n",
        "r2_score(y_true,y_pred)"
      ],
      "metadata": {
        "colab": {
          "base_uri": "https://localhost:8080/"
        },
        "id": "uazGs6olUZGc",
        "outputId": "5513b299-a9b1-4f4d-c8be-f5cf0e1cb2da"
      },
      "execution_count": 24,
      "outputs": [
        {
          "output_type": "execute_result",
          "data": {
            "text/plain": [
              "0.7718255294334534"
            ]
          },
          "metadata": {},
          "execution_count": 24
        }
      ]
    },
    {
      "cell_type": "code",
      "source": [],
      "metadata": {
        "id": "EoE4Vjw0U2DP"
      },
      "execution_count": null,
      "outputs": []
    }
  ]
}