{
  "nbformat": 4,
  "nbformat_minor": 0,
  "metadata": {
    "colab": {
      "provenance": [],
      "authorship_tag": "ABX9TyP+rTOi6nreWjcTEd3Ph7zA",
      "include_colab_link": true
    },
    "kernelspec": {
      "name": "python3",
      "display_name": "Python 3"
    },
    "language_info": {
      "name": "python"
    }
  },
  "cells": [
    {
      "cell_type": "markdown",
      "metadata": {
        "id": "view-in-github",
        "colab_type": "text"
      },
      "source": [
        "<a href=\"https://colab.research.google.com/github/BarbaraLipinska24/Data_Science_Python-exercises/blob/main/NumPy/Numpy1.ipynb\" target=\"_parent\"><img src=\"https://colab.research.google.com/assets/colab-badge.svg\" alt=\"Open In Colab\"/></a>"
      ]
    },
    {
      "cell_type": "code",
      "source": [
        "import numpy as np"
      ],
      "metadata": {
        "id": "tdlZb6NrVykO"
      },
      "execution_count": 1,
      "outputs": []
    },
    {
      "cell_type": "markdown",
      "source": [
        "1. Sprawdź czy poniższe elementy zwracają wartośc logiczną True"
      ],
      "metadata": {
        "id": "oCbg38HmVPw9"
      }
    },
    {
      "cell_type": "code",
      "execution_count": 2,
      "metadata": {
        "id": "Syup7vuZuLc3"
      },
      "outputs": [],
      "source": [
        "A = np.array([[3, 2, 1, 4],\n",
        "              [5, 2, 1, 6]])\n",
        "\n",
        "B = np.array([[3, 2, 1, 4],\n",
        "              [5, 2, 0, 6]])\n",
        "\n",
        "C = np.array([[True, False, False],\n",
        "              [True, True, True]])\n",
        "\n",
        "D = np.array([0.1, 0.3])\n"
      ]
    },
    {
      "cell_type": "code",
      "source": [
        "print('A:',np.all(A))\n",
        "print('B:',np.all(B))\n",
        "print('C:',np.all(C))\n",
        "print('D:',np.all(D))"
      ],
      "metadata": {
        "colab": {
          "base_uri": "https://localhost:8080/"
        },
        "id": "ZvbBSLIGulsd",
        "outputId": "f608978f-f599-40ac-ddd9-b04d90efd08f"
      },
      "execution_count": 3,
      "outputs": [
        {
          "output_type": "stream",
          "name": "stdout",
          "text": [
            "A: True\n",
            "B: False\n",
            "C: False\n",
            "D: True\n"
          ]
        }
      ]
    },
    {
      "cell_type": "markdown",
      "source": [
        "2. Sprawdź, czy wszystkie elementy z tablic A,B,C zwracają wartośc logiczną True wzdłuż osi o indeksie 1"
      ],
      "metadata": {
        "id": "UrxwdC-xVXlM"
      }
    },
    {
      "cell_type": "code",
      "source": [
        "A = np.array([[3, 2, 1, 4],\n",
        "              [5, 2, 1, 6]])\n",
        "\n",
        "B = np.array([[3, 2, 1, 4],\n",
        "              [5, 2, 0, 6]])\n",
        "\n",
        "C = np.array([[True, False, False],\n",
        "              [True, True, True]])"
      ],
      "metadata": {
        "id": "qbVnpzVou0Fo"
      },
      "execution_count": 4,
      "outputs": []
    },
    {
      "cell_type": "code",
      "source": [
        "print('A:',np.all(A,axis=1))\n",
        "print('B:',np.all(B,axis=1))\n",
        "print('C:',np.all(C,axis=1))\n",
        "\n",
        "#lub\n",
        "\n",
        "for name, array in zip(list('ABC'),[A,B,C]):\n",
        "    print(f'{name}:{np.all(array,axis=1)}')"
      ],
      "metadata": {
        "id": "iPmNEJMUVdTa",
        "outputId": "126b2b5a-de67-4b61-c393-defb00955c82",
        "colab": {
          "base_uri": "https://localhost:8080/"
        }
      },
      "execution_count": 6,
      "outputs": [
        {
          "output_type": "stream",
          "name": "stdout",
          "text": [
            "A: [ True  True]\n",
            "B: [ True False]\n",
            "C: [False  True]\n",
            "A:[ True  True]\n",
            "B:[ True False]\n",
            "C:[False  True]\n"
          ]
        }
      ]
    },
    {
      "cell_type": "markdown",
      "source": [
        "3. Sprawdź, czy którykolwiek element tablic A, B, C i D zwraca wartość logiczną True."
      ],
      "metadata": {
        "id": "Y_-JY0-JViPI"
      }
    },
    {
      "cell_type": "code",
      "source": [
        "A = np.array([[0, 0, 0],\n",
        "              [0, 0, 0]])\n",
        "\n",
        "B = np.array([[0, 0, 0],\n",
        "              [0, 1, 0]])\n",
        "\n",
        "C = np.array([[False, False, False],\n",
        "              [True, False, False]])\n",
        "\n",
        "D = np.array([[0.1, 0.0]])"
      ],
      "metadata": {
        "id": "Lt5MbwyYVCxf"
      },
      "execution_count": 7,
      "outputs": []
    },
    {
      "cell_type": "code",
      "source": [
        "for name,array in zip(list('ABCD'),[A,B,C,D]):\n",
        "    print(f'{name}: {np.any(array)}')"
      ],
      "metadata": {
        "id": "Ebe5Cd8sVJy3",
        "outputId": "7cf8ca4c-ba80-4d03-ba0f-2828c8071b84",
        "colab": {
          "base_uri": "https://localhost:8080/"
        }
      },
      "execution_count": 8,
      "outputs": [
        {
          "output_type": "stream",
          "name": "stdout",
          "text": [
            "A: False\n",
            "B: True\n",
            "C: True\n",
            "D: True\n"
          ]
        }
      ]
    },
    {
      "cell_type": "markdown",
      "source": [
        "4. Sprawdź, czy którykolwiek element tablic A, B, C i D zwraca wartość logiczną True wzdłuż osi z indeksem 0."
      ],
      "metadata": {
        "id": "LFw-31JtVohY"
      }
    },
    {
      "cell_type": "code",
      "source": [
        "A = np.array([[0, 0, 0],\n",
        "              [0, 0, 0]])\n",
        "\n",
        "B = np.array([[0, 0, 0],\n",
        "              [0, 1, 0]])\n",
        "\n",
        "C = np.array([[False, False, False],\n",
        "              [True, False, False]])\n",
        "\n",
        "D = np.array([[0.1, 0.0]])"
      ],
      "metadata": {
        "id": "WvJXbWXaVNX8"
      },
      "execution_count": 9,
      "outputs": []
    },
    {
      "cell_type": "code",
      "source": [
        "for name, array in zip(list('ABCD'),[A,B,C,D]):\n",
        "    print(f'{name}:{np.any(array,axis=0)}')"
      ],
      "metadata": {
        "id": "WQ7K7ipbVsDj",
        "outputId": "6baa9cc3-e592-4e10-bae9-e7a36a524a79",
        "colab": {
          "base_uri": "https://localhost:8080/"
        }
      },
      "execution_count": 10,
      "outputs": [
        {
          "output_type": "stream",
          "name": "stdout",
          "text": [
            "A:[False False False]\n",
            "B:[False  True False]\n",
            "C:[ True False False]\n",
            "D:[ True False]\n"
          ]
        }
      ]
    },
    {
      "cell_type": "markdown",
      "source": [
        "5. Sprawdź macierz A pod kątem brakujących danych (np.nan). Wydrukuj wynik na konsoli."
      ],
      "metadata": {
        "id": "9K_K__GKWHqx"
      }
    },
    {
      "cell_type": "code",
      "source": [
        "A = np.array([[3, 2, 1, np.nan],\n",
        "              [5, np.nan, 1, 6]])"
      ],
      "metadata": {
        "id": "vwi5fnZLWEyq"
      },
      "execution_count": 12,
      "outputs": []
    },
    {
      "cell_type": "code",
      "source": [
        "np.isnan(A)"
      ],
      "metadata": {
        "id": "3UDCWVcRWSxN",
        "outputId": "a00b1ed6-9c00-44b9-f411-aeb4048b946e",
        "colab": {
          "base_uri": "https://localhost:8080/"
        }
      },
      "execution_count": 13,
      "outputs": [
        {
          "output_type": "execute_result",
          "data": {
            "text/plain": [
              "array([[False, False, False,  True],\n",
              "       [False,  True, False, False]])"
            ]
          },
          "metadata": {},
          "execution_count": 13
        }
      ]
    },
    {
      "cell_type": "markdown",
      "source": [
        "6. Sprawdź, czy następujące tablice A i B są równe pod względem elementów z określonym poziomem tolerancji. Użyj funkcji np.allclose() z domyślnymi parametrami. Wydrukuj wynik do konsoli."
      ],
      "metadata": {
        "id": "PThJ-sWlWfHc"
      }
    },
    {
      "cell_type": "code",
      "source": [
        "A = np.array([0.4, 0.5, 0.3])\n",
        "B = np.array([0.39999999, 0.5000001, 0.3])"
      ],
      "metadata": {
        "id": "XIBtUJGMWWsT"
      },
      "execution_count": 14,
      "outputs": []
    },
    {
      "cell_type": "code",
      "source": [
        "print(np.allclose(A,B))"
      ],
      "metadata": {
        "id": "j4O5705yWlKi",
        "outputId": "e2347034-1730-4747-9361-4c85567ef135",
        "colab": {
          "base_uri": "https://localhost:8080/"
        }
      },
      "execution_count": 15,
      "outputs": [
        {
          "output_type": "stream",
          "name": "stdout",
          "text": [
            "True\n"
          ]
        }
      ]
    },
    {
      "cell_type": "markdown",
      "source": [
        "7. Sprawdź, czy poniższe tablice A i B są równe pod względem elementów. Użyj operatora porównania ==. Wydrukuj wynik do konsoli."
      ],
      "metadata": {
        "id": "HxqWO6RsW1vg"
      }
    },
    {
      "cell_type": "code",
      "source": [
        "A = np.array([0.4, 0.5, 0.3])\n",
        "B = np.array([0.3999999999, 0.5000000001, 0.3])"
      ],
      "metadata": {
        "id": "xL6rdAA-Wun_"
      },
      "execution_count": 16,
      "outputs": []
    },
    {
      "cell_type": "code",
      "source": [
        "print(A==B)"
      ],
      "metadata": {
        "id": "lxhLDEAOW9vq",
        "outputId": "b16eae93-40d3-4271-930a-ea4c58bd3c5c",
        "colab": {
          "base_uri": "https://localhost:8080/"
        }
      },
      "execution_count": 18,
      "outputs": [
        {
          "output_type": "stream",
          "name": "stdout",
          "text": [
            "[False False  True]\n"
          ]
        }
      ]
    },
    {
      "cell_type": "markdown",
      "source": [
        "8. Sprawdź, które elementy z tablicy A mają wyższe wartości niż tablica B. Wydrukuj wynik do konsoli."
      ],
      "metadata": {
        "id": "zZapoxpGXIZY"
      }
    },
    {
      "cell_type": "code",
      "source": [
        "A = np.array([0.4, 0.5, 0.3, 0.9])\n",
        "B = np.array([0.38, 0.51, 0.3, 0.91])"
      ],
      "metadata": {
        "id": "0GeaccfPXALU"
      },
      "execution_count": 19,
      "outputs": []
    },
    {
      "cell_type": "code",
      "source": [
        "print(A>B)"
      ],
      "metadata": {
        "id": "TR_nM3NhXP3y",
        "outputId": "438c888b-b325-4f7b-ec26-8eadf3f95631",
        "colab": {
          "base_uri": "https://localhost:8080/"
        }
      },
      "execution_count": 21,
      "outputs": [
        {
          "output_type": "stream",
          "name": "stdout",
          "text": [
            "[ True False False False]\n"
          ]
        }
      ]
    },
    {
      "cell_type": "markdown",
      "source": [
        "9. Utwórz tablicę numpy o kształcie 4x4 wypełnioną zerami. Ustaw typ danych na int. Wydrukuj wynik do konsoli."
      ],
      "metadata": {
        "id": "Va0drKtIXa6N"
      }
    },
    {
      "cell_type": "code",
      "source": [
        "print(np.zeros(shape=(4,4),dtype=int))"
      ],
      "metadata": {
        "id": "-5f-Z_3nXSMd",
        "outputId": "a40dabae-3d79-4fb1-93cf-fe698190fd77",
        "colab": {
          "base_uri": "https://localhost:8080/"
        }
      },
      "execution_count": 31,
      "outputs": [
        {
          "output_type": "stream",
          "name": "stdout",
          "text": [
            "[[0 0 0 0]\n",
            " [0 0 0 0]\n",
            " [0 0 0 0]\n",
            " [0 0 0 0]]\n"
          ]
        }
      ]
    },
    {
      "cell_type": "markdown",
      "source": [
        "10. Utwórz tablicę numpy o kształcie 10x10 wypełnioną liczbą 255. Ustaw typ danych na float."
      ],
      "metadata": {
        "id": "eogoiFbOYPcx"
      }
    },
    {
      "cell_type": "code",
      "source": [
        "print(np.full(shape=(10,10), fill_value=255, dtype=float))"
      ],
      "metadata": {
        "id": "DEKZyg_2Xh34",
        "outputId": "f602a3f8-4f77-43f9-c610-890656c47e0a",
        "colab": {
          "base_uri": "https://localhost:8080/"
        }
      },
      "execution_count": 36,
      "outputs": [
        {
          "output_type": "stream",
          "name": "stdout",
          "text": [
            "[[255. 255. 255. 255. 255. 255. 255. 255. 255. 255.]\n",
            " [255. 255. 255. 255. 255. 255. 255. 255. 255. 255.]\n",
            " [255. 255. 255. 255. 255. 255. 255. 255. 255. 255.]\n",
            " [255. 255. 255. 255. 255. 255. 255. 255. 255. 255.]\n",
            " [255. 255. 255. 255. 255. 255. 255. 255. 255. 255.]\n",
            " [255. 255. 255. 255. 255. 255. 255. 255. 255. 255.]\n",
            " [255. 255. 255. 255. 255. 255. 255. 255. 255. 255.]\n",
            " [255. 255. 255. 255. 255. 255. 255. 255. 255. 255.]\n",
            " [255. 255. 255. 255. 255. 255. 255. 255. 255. 255.]\n",
            " [255. 255. 255. 255. 255. 255. 255. 255. 255. 255.]]\n"
          ]
        }
      ]
    },
    {
      "cell_type": "code",
      "source": [],
      "metadata": {
        "id": "IUH6S6f4Ycv4"
      },
      "execution_count": null,
      "outputs": []
    }
  ]
}