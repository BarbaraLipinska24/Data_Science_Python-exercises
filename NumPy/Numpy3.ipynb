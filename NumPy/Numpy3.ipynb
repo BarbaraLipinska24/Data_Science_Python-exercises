{
  "nbformat": 4,
  "nbformat_minor": 0,
  "metadata": {
    "colab": {
      "provenance": [],
      "authorship_tag": "ABX9TyNrOmtO72du7RA6aM1ShOI6",
      "include_colab_link": true
    },
    "kernelspec": {
      "name": "python3",
      "display_name": "Python 3"
    },
    "language_info": {
      "name": "python"
    }
  },
  "cells": [
    {
      "cell_type": "markdown",
      "metadata": {
        "id": "view-in-github",
        "colab_type": "text"
      },
      "source": [
        "<a href=\"https://colab.research.google.com/github/BarbaraLipinska24/Data_Science_Python-exercises/blob/main/NumPy/Numpy3.ipynb\" target=\"_parent\"><img src=\"https://colab.research.google.com/assets/colab-badge.svg\" alt=\"Open In Colab\"/></a>"
      ]
    },
    {
      "cell_type": "code",
      "execution_count": 3,
      "metadata": {
        "id": "nmR7OX5LR38f"
      },
      "outputs": [],
      "source": [
        "#Sprawdź, czy którykolwiek element tablic A, B, C i D zwraca wartość logiczną True.\n",
        "\n",
        "import numpy as np\n",
        "\n",
        "\n",
        "A = np.array([[0, 0, 0],\n",
        "              [0, 0, 0]])\n",
        "\n",
        "B = np.array([[0, 0, 0],\n",
        "              [0, 1, 0]])\n",
        "\n",
        "C = np.array([[False, False, False],\n",
        "              [True, False, False]])\n",
        "\n",
        "D = np.array([[0.1, 0.0]])"
      ]
    },
    {
      "cell_type": "code",
      "source": [
        "for name,array in zip(list('ABCD'),[A,B,C,D]):\n",
        "    print(f'{name}: {np.any(array)}')\n"
      ],
      "metadata": {
        "colab": {
          "base_uri": "https://localhost:8080/"
        },
        "id": "ozdWoCh9R-KP",
        "outputId": "fbe15815-45c2-47de-a1fb-b2d0ff83d1b1"
      },
      "execution_count": 12,
      "outputs": [
        {
          "output_type": "stream",
          "name": "stdout",
          "text": [
            "A: False\n",
            "B: True\n",
            "C: True\n",
            "D: True\n"
          ]
        }
      ]
    },
    {
      "cell_type": "code",
      "source": [],
      "metadata": {
        "id": "MJe363FVSHn3"
      },
      "execution_count": null,
      "outputs": []
    }
  ]
}