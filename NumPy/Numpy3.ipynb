{
  "nbformat": 4,
  "nbformat_minor": 0,
  "metadata": {
    "colab": {
      "provenance": [],
      "authorship_tag": "ABX9TyMLOggwyldy94Wja+R1upFB",
      "include_colab_link": true
    },
    "kernelspec": {
      "name": "python3",
      "display_name": "Python 3"
    },
    "language_info": {
      "name": "python"
    }
  },
  "cells": [
    {
      "cell_type": "markdown",
      "metadata": {
        "id": "view-in-github",
        "colab_type": "text"
      },
      "source": [
        "<a href=\"https://colab.research.google.com/github/BarbaraLipinska24/Data_Science_Python-exercises/blob/main/NumPy/Numpy3.ipynb\" target=\"_parent\"><img src=\"https://colab.research.google.com/assets/colab-badge.svg\" alt=\"Open In Colab\"/></a>"
      ]
    },
    {
      "cell_type": "code",
      "execution_count": 1,
      "metadata": {
        "id": "nmR7OX5LR38f"
      },
      "outputs": [],
      "source": [
        "import numpy as np\n"
      ]
    },
    {
      "cell_type": "markdown",
      "source": [
        "Ćwiczenie 21\n",
        "Wygeneruj następującą tablicę numpy.\n",
        "\n",
        "\n",
        "\n",
        "array([[ 0,  1,  2,  3],\n",
        "       [ 4,  5,  6,  7],\n",
        "       [ 8,  9, 10, 11]])\n",
        "\n",
        "\n",
        "Następnie zapisz tablicę do pliku binarnego o nazwie 'array.npy', załaduj ten plik z powrotem do innej zmiennej i wydrukuj jej zawartość do konsol"
      ],
      "metadata": {
        "id": "j9Of56lsY_Tw"
      }
    },
    {
      "cell_type": "code",
      "source": [
        "array=np.arange(12)\n",
        "array=np.resize(array,(3,4))\n",
        "print(array)"
      ],
      "metadata": {
        "id": "MJe363FVSHn3",
        "outputId": "01615ee4-54af-46c4-986e-425ae2ad5e91",
        "colab": {
          "base_uri": "https://localhost:8080/"
        }
      },
      "execution_count": 12,
      "outputs": [
        {
          "output_type": "stream",
          "name": "stdout",
          "text": [
            "[[ 0  1  2  3]\n",
            " [ 4  5  6  7]\n",
            " [ 8  9 10 11]]\n"
          ]
        }
      ]
    },
    {
      "cell_type": "code",
      "source": [],
      "metadata": {
        "id": "eAEYWg3PZQXP"
      },
      "execution_count": null,
      "outputs": []
    }
  ]
}