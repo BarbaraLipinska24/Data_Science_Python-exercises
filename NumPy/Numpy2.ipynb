{
  "nbformat": 4,
  "nbformat_minor": 0,
  "metadata": {
    "colab": {
      "provenance": [],
      "authorship_tag": "ABX9TyOlNNy2721IdOl59DOl6jy5",
      "include_colab_link": true
    },
    "kernelspec": {
      "name": "python3",
      "display_name": "Python 3"
    },
    "language_info": {
      "name": "python"
    }
  },
  "cells": [
    {
      "cell_type": "markdown",
      "metadata": {
        "id": "view-in-github",
        "colab_type": "text"
      },
      "source": [
        "<a href=\"https://colab.research.google.com/github/BarbaraLipinska24/Data_Science_Python-exercises/blob/main/NumPy/Numpy2.ipynb\" target=\"_parent\"><img src=\"https://colab.research.google.com/assets/colab-badge.svg\" alt=\"Open In Colab\"/></a>"
      ]
    },
    {
      "cell_type": "code",
      "execution_count": 9,
      "metadata": {
        "colab": {
          "base_uri": "https://localhost:8080/"
        },
        "id": "lCydXkc1QAPm",
        "outputId": "e62b1cac-efe8-44cc-efe8-799bc41f3638"
      },
      "outputs": [
        {
          "output_type": "stream",
          "name": "stdout",
          "text": [
            "A: [ True  True]\n",
            "B [ True False]\n",
            "C: [False  True]\n",
            "A:[ True  True]\n",
            "B:[ True False]\n",
            "C:[False  True]\n"
          ]
        }
      ],
      "source": [
        "#Sprawdź, czy wszystkie elementy z tablic A,B,C zwracają wartośc logiczną True wzdłuż osi o indeksie 1\n",
        "import numpy as np\n",
        "\n",
        "\n",
        "A = np.array([[3, 2, 1, 4],\n",
        "              [5, 2, 1, 6]])\n",
        "\n",
        "B = np.array([[3, 2, 1, 4],\n",
        "              [5, 2, 0, 6]])\n",
        "\n",
        "C = np.array([[True, False, False],\n",
        "              [True, True, True]])\n",
        "\n",
        "print('A:',np.all(A,axis=1))\n",
        "print('B',np.all(B,axis=1))\n",
        "print('C:',np.all(C,axis=1))\n",
        "\n",
        "for name, array in zip(list('ABC'),[A,B,C]):\n",
        "    print(f'{name}:{np.all(array,axis=1)}')"
      ]
    },
    {
      "cell_type": "code",
      "source": [],
      "metadata": {
        "id": "UeKdJsnFQb9b"
      },
      "execution_count": null,
      "outputs": []
    }
  ]
}