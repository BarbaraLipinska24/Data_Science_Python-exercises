{
  "nbformat": 4,
  "nbformat_minor": 0,
  "metadata": {
    "colab": {
      "provenance": [],
      "authorship_tag": "ABX9TyOepODlsOH1SwQTynB12E99",
      "include_colab_link": true
    },
    "kernelspec": {
      "name": "python3",
      "display_name": "Python 3"
    },
    "language_info": {
      "name": "python"
    }
  },
  "cells": [
    {
      "cell_type": "markdown",
      "metadata": {
        "id": "view-in-github",
        "colab_type": "text"
      },
      "source": [
        "<a href=\"https://colab.research.google.com/github/BarbaraLipinska24/Data_Science_Python-exercises/blob/main/NumPy/Numpy2.ipynb\" target=\"_parent\"><img src=\"https://colab.research.google.com/assets/colab-badge.svg\" alt=\"Open In Colab\"/></a>"
      ]
    },
    {
      "cell_type": "markdown",
      "source": [
        "11.Zbuduj jednowymiarową tablicę numpy składającą się z wszystkich liczb dwucyfrowych. Wydrukuj wynik do konsoli.\n",
        "\n"
      ],
      "metadata": {
        "id": "58GsAGWv2H6w"
      }
    },
    {
      "cell_type": "code",
      "source": [
        "import numpy as np\n",
        "\n",
        "print(np.arange(10,100))"
      ],
      "metadata": {
        "colab": {
          "base_uri": "https://localhost:8080/"
        },
        "id": "W3A_uDud2DIJ",
        "outputId": "0d36f0fd-211b-44bf-901b-d494e7d0ae6a"
      },
      "execution_count": 2,
      "outputs": [
        {
          "output_type": "stream",
          "name": "stdout",
          "text": [
            "[10 11 12 13 14 15 16 17 18 19 20 21 22 23 24 25 26 27 28 29 30 31 32 33\n",
            " 34 35 36 37 38 39 40 41 42 43 44 45 46 47 48 49 50 51 52 53 54 55 56 57\n",
            " 58 59 60 61 62 63 64 65 66 67 68 69 70 71 72 73 74 75 76 77 78 79 80 81\n",
            " 82 83 84 85 86 87 88 89 90 91 92 93 94 95 96 97 98 99]\n"
          ]
        }
      ]
    },
    {
      "cell_type": "markdown",
      "source": [
        "12. PRzekształć powyższą tablicę do wymiaru 9x10"
      ],
      "metadata": {
        "id": "cvY3jgnc2xEQ"
      }
    },
    {
      "cell_type": "code",
      "source": [
        "print(np.arange(10,100).reshape(9,10))\n"
      ],
      "metadata": {
        "colab": {
          "base_uri": "https://localhost:8080/"
        },
        "id": "h4m-RSk52pyd",
        "outputId": "60e510c7-9fc0-413d-897a-e6ae431eaa8c"
      },
      "execution_count": null,
      "outputs": [
        {
          "output_type": "stream",
          "name": "stdout",
          "text": [
            "[[10 11 12 13 14 15 16 17 18 19]\n",
            " [20 21 22 23 24 25 26 27 28 29]\n",
            " [30 31 32 33 34 35 36 37 38 39]\n",
            " [40 41 42 43 44 45 46 47 48 49]\n",
            " [50 51 52 53 54 55 56 57 58 59]\n",
            " [60 61 62 63 64 65 66 67 68 69]\n",
            " [70 71 72 73 74 75 76 77 78 79]\n",
            " [80 81 82 83 84 85 86 87 88 89]\n",
            " [90 91 92 93 94 95 96 97 98 99]]\n"
          ]
        }
      ]
    },
    {
      "cell_type": "markdown",
      "source": [
        "\n",
        "13.Zbuduj dwuwymiarową tablicę numpy o kształcie 6x6 - macierz jednostkowa o typie danych int. Wydrukuj wynik do konsoli."
      ],
      "metadata": {
        "id": "Nve0WXkj3efl"
      }
    },
    {
      "cell_type": "code",
      "execution_count": null,
      "metadata": {
        "colab": {
          "base_uri": "https://localhost:8080/"
        },
        "id": "oZX57QY118UK",
        "outputId": "72670e4d-6952-4861-a813-7799f0e5b0a6"
      },
      "outputs": [
        {
          "output_type": "stream",
          "name": "stdout",
          "text": [
            "[[1 0 0 0 0 0]\n",
            " [0 1 0 0 0 0]\n",
            " [0 0 1 0 0 0]\n",
            " [0 0 0 1 0 0]\n",
            " [0 0 0 0 1 0]\n",
            " [0 0 0 0 0 1]]\n"
          ]
        }
      ],
      "source": [
        "print(np.eye(6,dtype=int))"
      ]
    },
    {
      "cell_type": "markdown",
      "source": [
        "14.Ustaw ziarno losowe na 10. Następnie zbuduj jednowymiarową tablicę numpy składającą się z 30 pseudolosowo wygenerowanych wartości z rozkładu jednostajnego na przedziale [0,1). Wydrukuj wynik do konsoli."
      ],
      "metadata": {
        "id": "RcGW1tkQ33Z5"
      }
    },
    {
      "cell_type": "code",
      "source": [
        "np.random.seed(10)\n",
        "print(np.random.rand(30))"
      ],
      "metadata": {
        "colab": {
          "base_uri": "https://localhost:8080/"
        },
        "id": "wcrfEZvY37UD",
        "outputId": "af527c80-62d3-41f8-a169-5d1d8084cdd9"
      },
      "execution_count": null,
      "outputs": [
        {
          "output_type": "stream",
          "name": "stdout",
          "text": [
            "[0.77132064 0.02075195 0.63364823 0.74880388 0.49850701 0.22479665\n",
            " 0.19806286 0.76053071 0.16911084 0.08833981 0.68535982 0.95339335\n",
            " 0.00394827 0.51219226 0.81262096 0.61252607 0.72175532 0.29187607\n",
            " 0.91777412 0.71457578 0.54254437 0.14217005 0.37334076 0.67413362\n",
            " 0.44183317 0.43401399 0.61776698 0.51313824 0.65039718 0.60103895]\n"
          ]
        }
      ]
    },
    {
      "cell_type": "markdown",
      "source": [
        "15.Ustaw ziarno losowe na 20. Następnie zbuduj dwuwymiarową tablicę numpy o kształcie (10, 4) z wygenerowanymi pseudolosowo wartościami ze standardowego rozkładu normalnego N(0,1)."
      ],
      "metadata": {
        "id": "r1MGUROU4cBQ"
      }
    },
    {
      "cell_type": "code",
      "source": [
        "np.random.seed(20)\n",
        "print(np.random.randn(10,4))"
      ],
      "metadata": {
        "colab": {
          "base_uri": "https://localhost:8080/"
        },
        "id": "C0IRCWOT3rBM",
        "outputId": "0da27a3c-6835-4544-8331-c0debfb5f7bb"
      },
      "execution_count": null,
      "outputs": [
        {
          "output_type": "stream",
          "name": "stdout",
          "text": [
            "[[ 0.88389311  0.19586502  0.35753652 -2.34326191]\n",
            " [-1.08483259  0.55969629  0.93946935 -0.97848104]\n",
            " [ 0.50309684  0.40641447  0.32346101 -0.49341088]\n",
            " [-0.79201679 -0.84236793 -1.27950266  0.24571517]\n",
            " [-0.0441948   1.56763255  1.05110868  0.40636843]\n",
            " [-0.1686461  -3.18970279  1.12013226  1.33277821]\n",
            " [-0.24333877 -0.13003071 -0.10901737  1.55618644]\n",
            " [ 0.12877835 -2.06694872 -0.88549315 -1.10457948]\n",
            " [ 0.93286635  2.059838   -0.93493796 -1.61299022]\n",
            " [ 0.52706972 -1.55110074  0.32961334 -1.13652654]]\n"
          ]
        }
      ]
    },
    {
      "cell_type": "markdown",
      "source": [
        "16.Ustaw ziarno losowe na 30. Następnie zbuduj dwuwymiarową tablicę numpy o kształcie (10, 4) z wygenerowanymi pseudolosowo wartościami z rozkładu normalnego N(100, 5)."
      ],
      "metadata": {
        "id": "26N7--cM4_d0"
      }
    },
    {
      "cell_type": "code",
      "source": [
        "np.random.seed(30)\n",
        "print(np.random.randn(10,4))"
      ],
      "metadata": {
        "colab": {
          "base_uri": "https://localhost:8080/"
        },
        "id": "x1aa-NQn5CIV",
        "outputId": "f5ad9385-a9b1-4af1-e840-5acf64a6bc39"
      },
      "execution_count": null,
      "outputs": [
        {
          "output_type": "stream",
          "name": "stdout",
          "text": [
            "[[-1.26405266  1.52790535 -0.97071094  0.47055962]\n",
            " [-0.10069672  0.30379318 -1.72596243  1.58509537]\n",
            " [ 0.13429659 -1.10685547  1.57822555  0.10749794]\n",
            " [-0.76404783 -0.77518851  1.38384717  0.76038508]\n",
            " [-0.28564551  0.53836748 -2.08389663  0.93778171]\n",
            " [-0.005778   -0.46747897 -0.4230153   1.06448209]\n",
            " [-2.9033676   1.61689037  1.42550989 -0.66475512]\n",
            " [ 0.98501786 -1.70046527 -1.10014381 -1.31564409]\n",
            " [ 0.81050091 -1.04477837 -0.68922937 -0.85275686]\n",
            " [ 1.11347211 -1.92116972 -0.70140242  0.84908785]]\n"
          ]
        }
      ]
    },
    {
      "cell_type": "markdown",
      "source": [
        "17. Dokonaj iteracji po tablicy numpy A i wydrukuj każdy element tablicy do konsoli."
      ],
      "metadata": {
        "id": "ZcLjzCSTijie"
      }
    },
    {
      "cell_type": "code",
      "source": [
        "A = np.array([[1, 4, 3],\n",
        "              [5, 2, 6]])\n",
        "\n",
        "for i in np.nditer(A):\n",
        "    print(i)"
      ],
      "metadata": {
        "id": "2Ia8mCsr4qqd",
        "outputId": "671c69e4-a78f-400b-e8ed-720fc706d1aa",
        "colab": {
          "base_uri": "https://localhost:8080/"
        }
      },
      "execution_count": 5,
      "outputs": [
        {
          "output_type": "stream",
          "name": "stdout",
          "text": [
            "1\n",
            "4\n",
            "3\n",
            "5\n",
            "2\n",
            "6\n"
          ]
        }
      ]
    },
    {
      "cell_type": "markdown",
      "source": [
        "18.Utwórz jednowymiarową tablicę numpy (wektor) składającą się z 11 równo rozmieszczonych punktów z przedziału [0,1]. Wynik wydrukuj do konsoli.\n"
      ],
      "metadata": {
        "id": "OPRTttvBjX-i"
      }
    },
    {
      "cell_type": "code",
      "source": [
        "print(np.linspace(0,1,11))"
      ],
      "metadata": {
        "id": "QEoMqIK3itwu",
        "outputId": "c446d5e5-8b5d-4e61-88cd-cdeca7af4999",
        "colab": {
          "base_uri": "https://localhost:8080/"
        }
      },
      "execution_count": 15,
      "outputs": [
        {
          "output_type": "stream",
          "name": "stdout",
          "text": [
            "[0.  0.1 0.2 0.3 0.4 0.5 0.6 0.7 0.8 0.9 1. ]\n"
          ]
        }
      ]
    },
    {
      "cell_type": "markdown",
      "source": [
        "19.Ustaw ziarno losowe na 42. Wygeneruj jednowymiarową tablicę (wektor) zawierającą możliwy wynik gry w Duży Lotek. Wynik wydrukuj do konsoli."
      ],
      "metadata": {
        "id": "XjY9FG7IkqPo"
      }
    },
    {
      "cell_type": "code",
      "source": [
        "np.random.seed(42)\n",
        "print(np.random.choice(range(1,50), size=6, replace=False))"
      ],
      "metadata": {
        "id": "841IorxXjowR",
        "outputId": "85bc4233-bc8f-489e-a33b-15ca6da09b00",
        "colab": {
          "base_uri": "https://localhost:8080/"
        }
      },
      "execution_count": 19,
      "outputs": [
        {
          "output_type": "stream",
          "name": "stdout",
          "text": [
            "[14 46 48 45 18 28]\n"
          ]
        }
      ]
    },
    {
      "cell_type": "markdown",
      "source": [
        "20.Zbuduj dwuwymiarową tablicę o kształcie 6x6 poniżej:"
      ],
      "metadata": {
        "id": "7rHOOqx7lm4k"
      }
    },
    {
      "cell_type": "code",
      "source": [
        "print(np.diag([0,1,2,3,4,5]))"
      ],
      "metadata": {
        "id": "AVKsbkXBlk-R",
        "outputId": "ebc3475b-4f25-48c0-8465-b6b9f821d1de",
        "colab": {
          "base_uri": "https://localhost:8080/"
        }
      },
      "execution_count": 21,
      "outputs": [
        {
          "output_type": "execute_result",
          "data": {
            "text/plain": [
              "array([[0, 0, 0, 0, 0, 0],\n",
              "       [0, 1, 0, 0, 0, 0],\n",
              "       [0, 0, 2, 0, 0, 0],\n",
              "       [0, 0, 0, 3, 0, 0],\n",
              "       [0, 0, 0, 0, 4, 0],\n",
              "       [0, 0, 0, 0, 0, 5]])"
            ]
          },
          "metadata": {},
          "execution_count": 21
        }
      ]
    },
    {
      "cell_type": "code",
      "source": [],
      "metadata": {
        "id": "n1yQrLK6k1qe"
      },
      "execution_count": null,
      "outputs": []
    }
  ]
}